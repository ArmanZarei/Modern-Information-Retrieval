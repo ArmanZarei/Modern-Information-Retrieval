{
 "cells": [
  {
   "cell_type": "markdown",
   "metadata": {
    "id": "-b2UsRU4P9JF"
   },
   "source": [
    "<div style=\"direction:rtl;line-height:300%;\">\n",
    "<font face=\"XB Zar\" size=5>\n",
    "<div align=center>\n",
    "<font face=\"B Titr\" size=5>\n",
    "<p></p><p></p>\n",
    "بسمه تعالی\n",
    "<p></p>\n",
    "</font>\n",
    "<p></p>\n",
    "<font>\n",
    "<br>\n",
    "درس بازیابی پیشرفته اطلاعات\n",
    "<br>\n",
    "مدرس: دکتر سلیمانی\n",
    "</font>\n",
    "<p></p>\n",
    "<br>\n",
    "<font>\n",
    "<b>فاز اول پروژه</b>\n",
    "</font>\n",
    "<br>\n",
    "<br>\n",
    "موعد تحویل: ۲۸ اسفند ۱۳۹۹\n",
    "<br>\n",
    "<br>\n",
    "<font size=4.8>\n",
    "دستیاران آموزشی: نیما جمالی، آرمین سعادت، ایمان غلامی\n",
    "</font>\n",
    "<br>\n",
    "<br>\n",
    "<br>\n",
    "<font>\n",
    "دانشگاه صنعتی شریف\n",
    "<br>\n",
    "دانشکده مهندسی کامپیوتر\n",
    "<br>\n",
    "<br>\n",
    "</font>\n",
    "</div>\n",
    "</font>\n",
    "</div>"
   ]
  },
  {
   "cell_type": "markdown",
   "metadata": {
    "id": "y3YoNVsQR3zO"
   },
   "source": [
    "<p></p>\n",
    "<div dir=\"rtl\">\n",
    "<font face=\"XB Zar\" size=4>\n",
    "    <h1>\n",
    "    <b>مقدمه</b>\n",
    "    </h1>\n",
    "    <p></p>\n",
    "    <p></p>\n",
    "    هدف از فاز اول پروژه، طراحی و پیاده‌سازی سیستم بازیابی اطلاعات برای مجموعه دادگان تعیین شده می‌باشد.<br>\n",
    "    اولین مرحله، پیش‌پردازش مجموعه دادگان است. پس از آن نمایه‌ها با ویژگی‌های خواسته شده پیاده‌سازی می‌شود. در گام بعدی به ذخیره و بازخوانی نمایه‌ها به همراه روش‌های فشرده‌سازی پرداخته می‌شود. پس از آن تکنیک‌های اصلاح پرسمان پیاده‌سازی شده و در نهایت جستجو روی دادگان صورت می‌گیرد. همچنین در بخش آخر با پیاده‌سازی برخی معیارهای ارزیابی، عملکرد سیستم مورد سنجش قرار می‌گیرد.<br><br>\n",
    "     توضیحات مربوط به هر بخش در ادامه آمده است که اهداف، محدودیت‌ها و خواسته‌های آن بخش را مشخص می‌کند.\n",
    "     در هر بخش توابعی مشخص شده است که محتوای آن با کد نوشته شده توسط شما باید پر شود. شما می‌توانید در همین فایل، سیستم بازیابی خود را پیاده‌سازی کنید یا فایل‌های خودتان را ایمپورت کرده و از آن‌ها استفاده کنید. در هر صورت تمامی کدهای لازم را به همراه این نوت‌بوک ارسال کنید. همچنین در نظر داشته باشید که ملاک اصلی نمره‌دهی شما اجرای صحیح توابع مشخص‌شده در این نوت‌بوک می‌باشد. بنابراین از صحت اجرای نوت‌بوک خود اطمینان پیدا کنید.<br><br>\n",
    "     تنها زبان قابل قبول برای پروژه پایتون است. محدودیت استفاده از کتاب‌خانه‌های آماده در هر بخش مشخص شده است. پروژه ۱۱۵ نمره دارد که ۱۵ نمره از آن امتیازی و مربوط به بخش اصلاح پرسمان می‌باشد.\n",
    "    \n",
    "    \n",
    "</font>\n",
    "</div>\n",
    "<p></p>"
   ]
  },
  {
   "cell_type": "markdown",
   "metadata": {
    "id": "jaR5CS_khMQB"
   },
   "source": [
    "<div dir=\"rtl\">\n",
    "<font face=\"XB Zar\" size=4>\n",
    "    <h1>\n",
    "    <b>مجموعه دادگان</b>\n",
    "    </h1>\n",
    "    مجموعه دادگان مورد بررسی در این پروژه از سایت kaggle فراهم شده است. این مجموعه شامل اطلاعات ۶۰۰۰ فیلم سینمایی از سال ۱۹۰۴ تا ۲۰۱۷ است. داده‌ها در قالب فایل csv   دارای ستون‌‌های plot، title، id می‌باشد. id یک شناسه یکتا برای هر فیلم است که برای ارزیابی بهتر عملکرد شما به داده‌ها اضافه شده است و در مجموعه دادگان اصلی وجود نداشته است. همانطور که می‌دانید برای پیاده‌سازی نمایه باید به هر داکیومنت یک شناسه اختصاص بدهید. <b>شناسه مربوط به هر داکیومنت باید id ذکر شده برای آن در مجموعه دادگان باشد.</b> هر فیلم از دو بخش title و plot  تشکیل شده است که از این دو بخش در ساخت نمایه و جستجو استفاده می‌شود. plot خلاصه‌ای از طرح داستان فیلم است.<br>\n",
    "    علاوه بر مجموعه دادگان اصلی، تعدای پرسمان در اختیار شما قرار گرفته است. همچنین جواب مطلوب هر یک از این پرسمان‌ها نیز فراهم شده که طبیعتا زیرمجموعه‌ای از مجموعه دادگان است. شما باید از این پرسمان‌ها و نتیجه مورد انتظار هر کدام برای ارزیابی سامانه خود استفاده کنید.\n",
    "    پرسمان‌ها و شناسه فیلم‌های بازیابی شده مورد انتظار از هر پرسمان در فایل validation.json آمده است. توضیحات بیشتر در رابطه با استفاده از این فایل در بخش ارزیابی آمده است.\n",
    "</font>\n",
    "</div>"
   ]
  },
  {
   "cell_type": "markdown",
   "metadata": {
    "id": "PxNntHofmHHH"
   },
   "source": [
    "<div dir=\"rtl\">\n",
    "<font face=\"XB Zar\" size=4>\n",
    "    <h1>\n",
    "    <b>پیش‌پردازش و آماده‌سازی داده‌ها (۱۵ نمره)</b>\n",
    "    </h1>\n",
    "    در این بخش ابتدا داده‌ها را از فایل بخوانید. برای آماده‌سازی متن می‌توانید از کتاب‌خانه‌های آماده استفاده کنید. یکی از کتاب‌خانه‌های معروف برای این کار <a href=\"https://www.nltk.org/\">NLTK</a> است اما در انتخاب روش پیاده‌سازی این بخش مختارید. برای این بخش باید تابع ()prepare_text را تکمیل کنید. این تابع یک متن انگلیسی ورودی گرفته و توکن‌‌های مربوط به آن‌را در قالب یک لیست خروجی می‌دهد. متن ورودی در عمل تایتل یا طرح داستان هر فیلم است. دقت کنید که لیست خروجی شامل تعدادی توکن است که عملیات case folding، stemming و lemmatization روی آن‌ها اجرا شده است. در ضمن علائم نگارشی نباید به عنوان توکن در نظر گرفته شود. در کد زیر یک نمونه ورودی و خروجی نمایش داده شده است. با توجه به نحوه پیاده‌سازی انواع بازگردانی به ریشه قابل قبول است.\n",
    "</font>\n",
    "</div>"
   ]
  },
  {
   "cell_type": "markdown",
   "metadata": {},
   "source": [
    "<div dir=\"rtl\">\n",
    "<b>گزارش : </b>\n",
    "    در این قسمت صرفا package های استفاده شده را import میکنیم\n",
    "</div>"
   ]
  },
  {
   "cell_type": "code",
   "execution_count": 1,
   "metadata": {},
   "outputs": [
    {
     "name": "stderr",
     "output_type": "stream",
     "text": [
      "[nltk_data] Downloading package punkt to\n",
      "[nltk_data]     C:\\Users\\Arman_PC\\AppData\\Roaming\\nltk_data...\n",
      "[nltk_data]   Package punkt is already up-to-date!\n",
      "[nltk_data] Downloading package wordnet to\n",
      "[nltk_data]     C:\\Users\\Arman_PC\\AppData\\Roaming\\nltk_data...\n",
      "[nltk_data]   Package wordnet is already up-to-date!\n"
     ]
    }
   ],
   "source": [
    "import nltk\n",
    "\n",
    "import string\n",
    "\n",
    "nltk.download('punkt')\n",
    "\n",
    "from nltk.stem import PorterStemmer\n",
    "\n",
    "nltk.download('wordnet')\n",
    "\n",
    "from nltk.stem import WordNetLemmatizer\n",
    "\n",
    "from nltk.stem.lancaster import LancasterStemmer\n",
    "\n",
    "import pandas as pd\n",
    "\n",
    "import json\n",
    "\n",
    "import os"
   ]
  },
  {
   "cell_type": "markdown",
   "metadata": {},
   "source": [
    "<div dir=\"rtl\">\n",
    "<b>گزارش : </b>\n",
    "   برای پیاده سازی این قسمت از nltk استفاده کردی و عملیت های گفته شده را به ترتیب انجام می دهیم . \n",
    "    هر قسمت کامنت گزاری شده ولی برای افزایش سرعت همه این مراحل در یک مرحله (One Shot) انجام شده اند که در انتها مشاهده می کنید\n",
    "</div>"
   ]
  },
  {
   "cell_type": "code",
   "execution_count": 2,
   "metadata": {
    "colab": {
     "base_uri": "https://localhost:8080/"
    },
    "id": "9aa16Puk-if0",
    "outputId": "2e6a2c95-41d5-4146-a27b-5ceba034e291"
   },
   "outputs": [
    {
     "data": {
      "text/plain": [
       "['edvard',\n",
       " 'be',\n",
       " 'a',\n",
       " 'runner',\n",
       " 'he',\n",
       " 'be',\n",
       " 'always',\n",
       " 'run',\n",
       " 'the',\n",
       " 'adventure',\n",
       " 'of',\n",
       " 'sherlock',\n",
       " 'holmes',\n",
       " 'students',\n",
       " 'class']"
      ]
     },
     "execution_count": 2,
     "metadata": {},
     "output_type": "execute_result"
    }
   ],
   "source": [
    "def prepare_text(raw_text):\n",
    "    # ----------- Remove all punctuations ----------- #\n",
    "    trantab = str.maketrans(dict.fromkeys(list(string.punctuation)))\n",
    "    raw_text = raw_text.translate(trantab)  \n",
    "    # ----------- Tokenize ----------- #\n",
    "    tokens = nltk.word_tokenize(raw_text)\n",
    "    \n",
    "    # ----------- Case Folding ----------- #\n",
    "    # tokens = [token.lower() for token in tokens]\n",
    "    # ----------- Lemmatize ----------- #\n",
    "    lemmatizer = WordNetLemmatizer()\n",
    "    # tokens = [lemmatizer.lemmatize(token, pos='v') for token in tokens]\n",
    "    # ----------- Stemming ----------- #\n",
    "    # stemmer = LancasterStemmer()\n",
    "    stemmer = PorterStemmer()\n",
    "    # tokens = [stemmer.stem(token) for token in tokens]\n",
    "    \n",
    "    # ----------- One shot approach ----------- #\n",
    "    # With Stemming\n",
    "    # tokens = [stemmer.stem(lemmatizer.lemmatize(token.lower(), pos='v')) for token in tokens]\n",
    "    # Without Stemming\n",
    "    tokens = [lemmatizer.lemmatize(token.lower(), pos='v') for token in tokens] # Could also detect word type (ADV, ADJ, VERB< NOUN) but this was too slow ...\n",
    "    \n",
    "    \n",
    "    return tokens\n",
    "\n",
    "prepare_text(\"Edvard was a Runner. He was always running. the adventures of sherlock holmes. students . classes\")"
   ]
  },
  {
   "cell_type": "markdown",
   "metadata": {
    "id": "WVhVEO6VARIa"
   },
   "source": [
    "<div dir=\"rtl\">\n",
    "<font face=\"XB Zar\" size=4>\n",
    "    <h1>\n",
    "    <b>شناسایی و حذف stop-words (۵ نمره)</b>\n",
    "    </h1>\n",
    "    این بخش باید توسط خودتان و بدون استفاده از کد آماده پیاده‌سازی شود. ترم‌های موجود در مجموعه دادگان را بر اساس تکرار آن‌ها مرتب کرده و پرتکرارترین آن‌ها را به عنوان stop-words در نظر بگیرید. اینکه چند ترم را به عنوان stop-words در نظر بگیرید به عهده خودتان است.<br>\n",
    "    با فراخوانی تابع ()get_stop_words لیست stop-words به همراه تعداد تکرار آن‌‌ها خروجی داده می‌شود.<br>\n",
    "    ترم‌های به دست آمده از این بخش نباید در نمایه حضور داشته باشند.\n",
    "</font>\n",
    "</div>"
   ]
  },
  {
   "cell_type": "markdown",
   "metadata": {},
   "source": [
    "<div dir=\"rtl\">\n",
    "<b>گزارش : </b>\n",
    "با توجه به اینکه در صورت درج داکیومنت های جدید باید highlighting صورت بگیره (در سرچ) ، ما تمام داکیومنت های خام را در یک dataframe نگه می داریم که آن را آپدیت نگه داریم برای سرچ و هایلایت کردن\n",
    "</div>"
   ]
  },
  {
   "cell_type": "code",
   "execution_count": 3,
   "metadata": {},
   "outputs": [
    {
     "data": {
      "text/html": [
       "<div>\n",
       "<style scoped>\n",
       "    .dataframe tbody tr th:only-of-type {\n",
       "        vertical-align: middle;\n",
       "    }\n",
       "\n",
       "    .dataframe tbody tr th {\n",
       "        vertical-align: top;\n",
       "    }\n",
       "\n",
       "    .dataframe thead th {\n",
       "        text-align: right;\n",
       "    }\n",
       "</style>\n",
       "<table border=\"1\" class=\"dataframe\">\n",
       "  <thead>\n",
       "    <tr style=\"text-align: right;\">\n",
       "      <th></th>\n",
       "      <th>id</th>\n",
       "      <th>title</th>\n",
       "      <th>plot</th>\n",
       "    </tr>\n",
       "  </thead>\n",
       "  <tbody>\n",
       "    <tr>\n",
       "      <th>0</th>\n",
       "      <td>1</td>\n",
       "      <td>The Suburbanite</td>\n",
       "      <td>The film is about a family who move to the sub...</td>\n",
       "    </tr>\n",
       "    <tr>\n",
       "      <th>1</th>\n",
       "      <td>2</td>\n",
       "      <td>Laughing Gas</td>\n",
       "      <td>The plot is that of a black woman going to the...</td>\n",
       "    </tr>\n",
       "    <tr>\n",
       "      <th>2</th>\n",
       "      <td>3</td>\n",
       "      <td>A Calamitous Elopement</td>\n",
       "      <td>A young couple decides to elope after being ca...</td>\n",
       "    </tr>\n",
       "    <tr>\n",
       "      <th>3</th>\n",
       "      <td>4</td>\n",
       "      <td>The Call of the Wild</td>\n",
       "      <td>A white girl (Florence Lawrence) rejects a pro...</td>\n",
       "    </tr>\n",
       "    <tr>\n",
       "      <th>4</th>\n",
       "      <td>5</td>\n",
       "      <td>A Lad from Old Ireland</td>\n",
       "      <td>An Irish boy (Olcott) emigrates to America to ...</td>\n",
       "    </tr>\n",
       "  </tbody>\n",
       "</table>\n",
       "</div>"
      ],
      "text/plain": [
       "   id                   title  \\\n",
       "0   1         The Suburbanite   \n",
       "1   2            Laughing Gas   \n",
       "2   3  A Calamitous Elopement   \n",
       "3   4    The Call of the Wild   \n",
       "4   5  A Lad from Old Ireland   \n",
       "\n",
       "                                                plot  \n",
       "0  The film is about a family who move to the sub...  \n",
       "1  The plot is that of a black woman going to the...  \n",
       "2  A young couple decides to elope after being ca...  \n",
       "3  A white girl (Florence Lawrence) rejects a pro...  \n",
       "4  An Irish boy (Olcott) emigrates to America to ...  "
      ]
     },
     "execution_count": 3,
     "metadata": {},
     "output_type": "execute_result"
    }
   ],
   "source": [
    "movies = pd.read_csv(\"movies.csv\")\n",
    "movies.head()"
   ]
  },
  {
   "cell_type": "markdown",
   "metadata": {},
   "source": [
    "<div dir=\"rtl\">\n",
    "<b>گزارش : </b>\n",
    "برای این قسمت در ابتدا داکیومنت ها را از فایل میخوانیم و به کمک تابع prepare_text که در بالا زدیم ، عملیات tokenization رو انجام داده و سپس تعداد هر token را میشماریم و در انتها token های با بیشترین تعداد را خروجی میدهیم\n",
    "(* نکته : دقت کنید که این stop word ها از روی داکیومنت های حاضر در دیتافریم movies بدست می آید . بنابرین مقدار movies را بروز کنید در بلاک بالا)\n",
    "</div>"
   ]
  },
  {
   "cell_type": "code",
   "execution_count": 4,
   "metadata": {
    "colab": {
     "base_uri": "https://localhost:8080/"
    },
    "id": "B-0YxOUeBGDY",
    "outputId": "b8e3476a-02af-41dc-b4a3-5c637ffd4118"
   },
   "outputs": [
    {
     "data": {
      "text/plain": [
       "{'the': 147374,\n",
       " 'to': 91561,\n",
       " 'and': 83077,\n",
       " 'be': 69029,\n",
       " 'a': 67762,\n",
       " 'of': 42764,\n",
       " 'in': 38565,\n",
       " 'his': 34704,\n",
       " 'he': 31677,\n",
       " 'her': 27923,\n",
       " 'that': 26232,\n",
       " 'with': 25049,\n",
       " 'have': 20186,\n",
       " 'him': 18898,\n",
       " 'by': 17817,\n",
       " 'for': 17580,\n",
       " 'she': 17221,\n",
       " 'as': 15615,\n",
       " 'on': 14842,\n",
       " 'but': 13503,\n",
       " 'they': 13158,\n",
       " 'who': 12620,\n",
       " 'at': 12334,\n",
       " 'from': 11095,\n",
       " 'an': 10855,\n",
       " 'when': 9988,\n",
       " 'their': 9475,\n",
       " 'after': 8875,\n",
       " 'it': 8725,\n",
       " 'out': 7833}"
      ]
     },
     "execution_count": 4,
     "metadata": {},
     "output_type": "execute_result"
    }
   ],
   "source": [
    "def calc_stop_words(output_count):\n",
    "    countDict = {}\n",
    "    for index, row in movies.iterrows():\n",
    "        title, plot = row['title'], row['plot']\n",
    "        tokens = prepare_text(title) + prepare_text(plot)\n",
    "        for token in tokens:\n",
    "            countDict[token] = (countDict[token] if token in countDict else 0) + 1\n",
    "    \n",
    "    sorted_keys = sorted(countDict, key=countDict.get, reverse=True)\n",
    "    result = {key: countDict[key] for key in sorted_keys[:output_count]}\n",
    "    \n",
    "    return result\n",
    "\n",
    "def get_stop_words():\n",
    "    return calc_stop_words(30)\n",
    "\n",
    "stop_words = get_stop_words()\n",
    "stop_words"
   ]
  },
  {
   "cell_type": "markdown",
   "metadata": {
    "id": "A4Z02BzNHD1z"
   },
   "source": [
    "<div dir=\"rtl\">\n",
    "<font face=\"XB Zar\" size=4>\n",
    "    <h1>\n",
    "    <b>نمایه‌سازی (۱۵ نمره)</b>\n",
    "    </h1>\n",
    "    در این بخش باید برای سامانه positional index بسازید. برای هر ترم باید مشخص باشد که آن ترم در تایتل چه فیلم‌هایی و در چه جایگاهی از تایتل هر فیلم قرار گرفته است. همچنین برای هر ترم باید مشخص باشد که آن ترم در طرح داستان چه فیلم‌هایی و در چه جایگاهی از طرح داستان هر فیلم قرار گرفته است.<br>\n",
    "     برای ارزیابی بهتر و عادلانه‌تر به ویژه برای ارزیابی بخش فشرده‌سازی، از استاندارد بیان شده در قطعه کد زیر برای ذخیره posting list هر ترم در RAM استفاده کنید.\n",
    "</font>\n",
    "</div>"
   ]
  },
  {
   "cell_type": "markdown",
   "metadata": {},
   "source": [
    "<div dir=\"rtl\">\n",
    "<b>گزارش : </b>\n",
    "در این قسمت همانند توضیحات داده شده positional index مربوطه را از روی داکیومنت ها در فایل movies.csv میسازیم\n",
    "از این پس یک متغیر گلوبال به اسم positional_index خواهیم داشت     \n",
    " \n",
    "</div>"
   ]
  },
  {
   "cell_type": "code",
   "execution_count": 5,
   "metadata": {
    "colab": {
     "base_uri": "https://localhost:8080/"
    },
    "id": "zJy4LiraBm8E",
    "outputId": "a740d94d-1896-4a6a-9a28-68b1cb8d32db"
   },
   "outputs": [
    {
     "data": {
      "text/plain": [
       "56711"
      ]
     },
     "execution_count": 5,
     "metadata": {},
     "output_type": "execute_result"
    }
   ],
   "source": [
    "def init_positional_index_for_token(positional_index, token):\n",
    "    if token not in positional_index:\n",
    "        positional_index[token] = [[], []]\n",
    "        \n",
    "def add_tokens_to_end_positional_index(positional_index, tokens, doc_id, is_title):\n",
    "    ind = 0 if is_title else 1\n",
    "    n = len(tokens)\n",
    "    \n",
    "    for i in range(n):\n",
    "        token = tokens[i]\n",
    "        \n",
    "        if token in stop_words:\n",
    "            continue\n",
    "        \n",
    "        init_positional_index_for_token(positional_index, token)\n",
    "        token_pos_index = positional_index[token][ind]\n",
    "        \n",
    "        if len(token_pos_index) == 0 or token_pos_index[-1][0] != doc_id:\n",
    "            token_pos_index.append([doc_id, [i+1]])\n",
    "        else:\n",
    "            token_pos_index[-1][1].append(i+1)            \n",
    "\n",
    "def create_positional_index():\n",
    "    global movies\n",
    "    movies = pd.read_csv(\"movies.csv\") # Just in case of some changes on the default (add new docs or ...)\n",
    "    \n",
    "    positional_index = {}\n",
    "    for index, row in movies.iterrows():\n",
    "        doc_id, title, plot = row['id'], row['title'], row['plot']\n",
    "        title_tokens, plot_tokens = prepare_text(title), prepare_text(plot)\n",
    "        add_tokens_to_end_positional_index(positional_index, title_tokens, doc_id, True)\n",
    "        add_tokens_to_end_positional_index(positional_index, plot_tokens, doc_id, False)\n",
    "    \n",
    "    return positional_index\n",
    "\n",
    "positional_index = create_positional_index()\n",
    "len(positional_index)"
   ]
  },
  {
   "cell_type": "markdown",
   "metadata": {
    "id": "voqMrk4rg1qk"
   },
   "source": [
    "<div dir=\"rtl\">\n",
    "<font face=\"XB Zar\" size=4>\n",
    "    <h1>\n",
    "    <b>پویا‌سازی نمایه (۱۰ نمره)</b>\n",
    "    </h1>\n",
    "    نمایه ایجاد شده باید قابلیت حذف و اضافه تک داکیومنت را داشته باشد.\n",
    "    برای اضافه شدن داکیومنت، به تابع ()add_single_document یک رشته داده می‌شود که اطلاعات مربوط به داکیومنت شامل id و plot و title در آن با کاما جدا شده است. برای حذف داکیومنت نیز id آن به تابع ()remove_single_document داده می‌شود.<br>\n",
    "    تضمین می‌شود که شرط یکتا بودن id داکیومنت‌ها نقض نشود. برای مثال دو داکیومنت با شناسه یکسان به مجموعه اضافه نخواهد شد. البته ممکن است حذف شده و دوباره اضافه شود.\n",
    "</font>\n",
    "</div>"
   ]
  },
  {
   "cell_type": "markdown",
   "metadata": {},
   "source": [
    "<div dir=\"rtl\">\n",
    "<b>گزارش : </b>\n",
    "در این قسمت امکان حذف یا درج یک داکیومنت در corpus فراهم میشود . در صورت انجام این عملیات ها علاوه بر آپدیت شدن positional_index ، مقدار دیتافریم movies نیز آپدیت می شود \n",
    "</div>"
   ]
  },
  {
   "cell_type": "code",
   "execution_count": 615,
   "metadata": {
    "id": "e1Ej2n3MB6ef"
   },
   "outputs": [
    {
     "data": {
      "text/plain": [
       "[[],\n",
       " [[466, [400]],\n",
       "  [721, [482]],\n",
       "  [854, [8]],\n",
       "  [1041, [38]],\n",
       "  [2124, [476]],\n",
       "  [3177, [518]],\n",
       "  [3920, [485]],\n",
       "  [4152, [297]],\n",
       "  [4273, [291]],\n",
       "  [4364, [222]],\n",
       "  [4667, [318]],\n",
       "  [4984, [368]],\n",
       "  [5020, [433]],\n",
       "  [5125, [608]],\n",
       "  [5131, [497]],\n",
       "  [5213, [159]],\n",
       "  [5319, [169]],\n",
       "  [5475, [166]],\n",
       "  [5539, [904]],\n",
       "  [5629, [259]],\n",
       "  [5654, [158]],\n",
       "  [5708, [31]],\n",
       "  [5855, [342]],\n",
       "  [5993, [540]],\n",
       "  [11111111, [2]],\n",
       "  [22222222, [8]]]]"
      ]
     },
     "execution_count": 615,
     "metadata": {},
     "output_type": "execute_result"
    }
   ],
   "source": [
    "def add_new_document_tokens(doc_id, tokens, is_title):\n",
    "    ind = 0 if is_title else 1\n",
    "    n = len(tokens)\n",
    "    \n",
    "    for i in range(n):\n",
    "        token = tokens[i]\n",
    "        \n",
    "        if token in stop_words:\n",
    "            continue\n",
    "        \n",
    "        init_positional_index_for_token(positional_index, token)\n",
    "        token_pos_index = positional_index[token][ind]\n",
    "        \n",
    "        ind_to_insert = 0\n",
    "        while ind_to_insert < len(token_pos_index):\n",
    "            if doc_id > token_pos_index[ind_to_insert][0]:\n",
    "                ind_to_insert += 1\n",
    "            else:\n",
    "                break\n",
    "        \n",
    "        if ind_to_insert < len(token_pos_index) and token_pos_index[ind_to_insert][0] == doc_id:\n",
    "            token_pos_index[ind_to_insert][1].append(i+1)\n",
    "        else:\n",
    "            token_pos_index.insert(ind_to_insert, [doc_id, [i+1]])    \n",
    "\n",
    "def add_single_documnet(document):\n",
    "    global movies\n",
    "    \n",
    "    doc_id, title, plot = document.split(\",\", 2)\n",
    "    doc_id = int(doc_id)\n",
    "    \n",
    "    title_tokens, plot_tokens = prepare_text(title), prepare_text(plot)\n",
    "    \n",
    "    add_new_document_tokens(doc_id, title_tokens, True)\n",
    "    add_new_document_tokens(doc_id, plot_tokens, False)\n",
    "    \n",
    "    movies.loc[len(movies)] = [doc_id, title, plot]\n",
    "\n",
    "new_document = \"22222222,The Adventures of Sherlock Holmes,The picture begins with Moriarty and Holmes verbally sparring on the steps\"\n",
    "add_single_documnet(new_document)\n",
    "new_document = \"11111111,Adventures Holmes, steps verbally arman step\"\n",
    "add_single_documnet(new_document)\n",
    "positional_index['verbally']"
   ]
  },
  {
   "cell_type": "code",
   "execution_count": 616,
   "metadata": {
    "id": "DsarzVzhDoMi"
   },
   "outputs": [
    {
     "data": {
      "text/plain": [
       "[[],\n",
       " [[466, [400]],\n",
       "  [721, [482]],\n",
       "  [854, [8]],\n",
       "  [1041, [38]],\n",
       "  [2124, [476]],\n",
       "  [3177, [518]],\n",
       "  [3920, [485]],\n",
       "  [4152, [297]],\n",
       "  [4273, [291]],\n",
       "  [4364, [222]],\n",
       "  [4667, [318]],\n",
       "  [4984, [368]],\n",
       "  [5020, [433]],\n",
       "  [5125, [608]],\n",
       "  [5131, [497]],\n",
       "  [5213, [159]],\n",
       "  [5319, [169]],\n",
       "  [5475, [166]],\n",
       "  [5539, [904]],\n",
       "  [5629, [259]],\n",
       "  [5654, [158]],\n",
       "  [5708, [31]],\n",
       "  [5855, [342]],\n",
       "  [5993, [540]],\n",
       "  [22222222, [8]]]]"
      ]
     },
     "execution_count": 616,
     "metadata": {},
     "output_type": "execute_result"
    }
   ],
   "source": [
    "def binary_search(arr, l, h, x):\n",
    "    if h < l:\n",
    "        return -1\n",
    "    \n",
    "    mid = (l + h) // 2\n",
    "    if arr[mid][0] == x:\n",
    "        return mid\n",
    "    elif arr[mid][0] > x:\n",
    "        return binary_search(arr, l, mid - 1, x)\n",
    "    else:\n",
    "        return binary_search(arr, mid + 1, h, x)\n",
    "\n",
    "def remove_doc_from_list(arr, doc_id):\n",
    "    ind = binary_search(arr, 0, len(arr) - 1, doc_id)\n",
    "    if ind != -1:\n",
    "        arr.pop(ind)\n",
    "\n",
    "def remove_signle_document(document_id):\n",
    "    global movies\n",
    "    movies.drop(movies[movies['id']==1].index , inplace=True)\n",
    "    \n",
    "    empty_keys = []\n",
    "    for k in positional_index.keys():\n",
    "        remove_doc_from_list(positional_index[k][0], document_id)\n",
    "        remove_doc_from_list(positional_index[k][1], document_id)\n",
    "        if len(positional_index[k][0]) == 0 and len(positional_index[k][1]) == 0:\n",
    "            empty_keys.append(k)\n",
    "    \n",
    "    for k in empty_keys:\n",
    "        positional_index.pop(k)\n",
    "    \n",
    "    return\n",
    "  \n",
    "remove_signle_document(11111111)\n",
    "positional_index['verbally']"
   ]
  },
  {
   "cell_type": "markdown",
   "metadata": {
    "id": "4PBbFcmpXFKD"
   },
   "source": [
    "<div dir=\"rtl\">\n",
    "<font face=\"XB Zar\" size=4>\n",
    "    <h1>\n",
    "    <b>ذخیره و فشرده‌سازی نمایه (۲۰ نمره)</b>\n",
    "    </h1>\n",
    "    در این بخش باید توانایی ذخیره کردن نمایه و بارگذاری مجدد آن را به سامانه اضافه کنید. ذخیره‌سازی به ۳ روش صورت می‌گیرد. بدون فشرده‌سازی، فشرده‌سازی از روش gamma-code و فشرده‌سازی از روش variable-byte. روش‌های فشرده‌سازی باید توسط خودتان پیاده‌سازی شود.\n",
    "    برای ذخیره نمایه در فایل نیز از JSON  استفاده کنید.<br>\n",
    "     بخشی از نمره شما در این قسمت به میزان فشرده‌سازی نمایه اختصاص داده شده است. بنابراین پیاده‌سازی بهینه روش‌های فشرده‌سازی مهم است.\n",
    "</font>\n",
    "</div>"
   ]
  },
  {
   "cell_type": "markdown",
   "metadata": {},
   "source": [
    "<div dir=\"rtl\">\n",
    "<b>گزارش : </b>\n",
    "    در این قسمت 2 کلاس برای 2 نحوه فشرده سازی (variable byte و gamma code)  پیاده سازی شده که در فایل های کناری قرار دارند که در قسمت زیر import شده اند\n",
    "    هم برای compress و هم برای decmopress در کلاس ها متد هایی تعریف شده که این کار را انجام می دهند . \n",
    "    . برای جایگزینی اعداد با gap size ها نیز تابع هایی به صورت generic نوشته شده اند که بسته به نوع compression تابع را روی آن ها اعمال می کنند.\n",
    ". همچنین صحت decompress کردن نیز با سایز داکیومنت کمتر تست شده که مقادیر یکسانی با قبل از فشرده سازی داشت\n",
    "</div>"
   ]
  },
  {
   "cell_type": "code",
   "execution_count": 620,
   "metadata": {},
   "outputs": [],
   "source": [
    "from variable_byte import VariableByteCompressor\n",
    "from gamma_code import GammaCodeCompressor\n",
    "\n",
    "variable_byte_compressor = VariableByteCompressor()\n",
    "gamma_code_compressor = GammaCodeCompressor()"
   ]
  },
  {
   "cell_type": "code",
   "execution_count": 621,
   "metadata": {
    "colab": {
     "base_uri": "https://localhost:8080/"
    },
    "id": "zYN9I4_BD178",
    "outputId": "4a11351f-d214-495e-eb3f-7dc56863cd58"
   },
   "outputs": [
    {
     "name": "stdout",
     "output_type": "stream",
     "text": [
      "No Compression: 18273368\n",
      "Variable Byte Compression: 11980106 (34.44%)\n",
      "Gamma Code Compression: 12903570 (29.39%)\n"
     ]
    }
   ],
   "source": [
    "# ----------------------------------------- Generic Methods ------------------------------------- #\n",
    "def replace_with_gap_size_and_compress(pos_index, compress_type):\n",
    "    if len(pos_index) == 0:\n",
    "        return []\n",
    "    \n",
    "    compress_list_func = variable_byte_compressor.compress_number_list if compress_type == 'variable_byte' else gamma_code_compressor.compress_number_list\n",
    "    \n",
    "    # -------------- Creates a compressed pos. index for a single doc -------------- #\n",
    "    def create_compressed_doc_pos_ind(doc_id, occur_list):\n",
    "        tmp_pos_index = [occur_list[0]]\n",
    "        n = len(occur_list)\n",
    "        prev = tmp_pos_index[0]\n",
    "        for i in range(1, n):\n",
    "            gap = occur_list[i] - prev\n",
    "            tmp_pos_index.append(gap)\n",
    "            prev = occur_list[i]\n",
    "        tmp_pos_index.insert(0, doc_id)\n",
    "        \n",
    "        return compress_list_func(tmp_pos_index)\n",
    "    \n",
    "    new_pos_index = []\n",
    "    new_pos_index.append(create_compressed_doc_pos_ind(pos_index[0][0], pos_index[0][1]))\n",
    "    \n",
    "    prev_doc = pos_index[0][0]\n",
    "    n = len(pos_index)\n",
    "    for doc in range(1, n):\n",
    "        doc_gap = pos_index[doc][0] - prev_doc\n",
    "        new_pos_index.append(create_compressed_doc_pos_ind(doc_gap, pos_index[doc][1]))\n",
    "        prev_doc = pos_index[doc][0]\n",
    "        \n",
    "    return new_pos_index\n",
    "# ----------------------------------------- Gamma Code ------------------------------------- #\n",
    "def gamma_code_compression_pos_index(pos_index):\n",
    "    return replace_with_gap_size_and_compress(pos_index, compress_type='gamma_code')\n",
    "\n",
    "def store_index_gamma_code(path):\n",
    "    new_pos_index = {}\n",
    "    \n",
    "    for word in positional_index:\n",
    "        new_pos_index[word] = [\n",
    "            gamma_code_compression_pos_index(positional_index[word][0]),\n",
    "            gamma_code_compression_pos_index(positional_index[word][1])\n",
    "        ]\n",
    "    \n",
    "    with open(path, \"w\") as outfile:  \n",
    "        json.dump(new_pos_index, outfile) \n",
    "# ----------------------------------------- Byte Variable ------------------------------------- #\n",
    "def variable_byte_compression_pos_index(pos_index):\n",
    "    return replace_with_gap_size_and_compress(pos_index, compress_type='variable_byte')\n",
    "\n",
    "def store_index_variable_byte(path):\n",
    "    new_pos_index = {}\n",
    "    \n",
    "    for word in positional_index:\n",
    "        new_pos_index[word] = [\n",
    "            variable_byte_compression_pos_index(positional_index[word][0]),\n",
    "            variable_byte_compression_pos_index(positional_index[word][1])\n",
    "        ]\n",
    "    \n",
    "    with open(path, \"w\") as outfile:  \n",
    "        json.dump(new_pos_index, outfile) \n",
    "# ----------------------------------------- No Compression ------------------------------------- #\n",
    "def store_index_no_compression(path):\n",
    "    with open(path, \"w\") as outfile:  \n",
    "        json.dump(positional_index, outfile) \n",
    "        return\n",
    "\n",
    "def store_index(path, compression_type):\n",
    "    function_map = {\n",
    "        \"no-compression\": store_index_no_compression,\n",
    "        \"variable-byte\": store_index_variable_byte,\n",
    "        \"gamma-code\": store_index_gamma_code,\n",
    "    }\n",
    "    function_map[compression_type](path)\n",
    "    size_of_file = os.path.getsize(path)\n",
    "    \n",
    "    return size_of_file\n",
    "\n",
    "no_compression_size = store_index(\"storage_no_compression.json\", \"no-compression\")\n",
    "print(\"No Compression:\", no_compression_size)\n",
    "variable_byte_size = store_index(\"storage_variable_byte.json\", \"variable-byte\")\n",
    "print(\"Variable Byte Compression:\", variable_byte_size, \"({:.2f}%)\".format((1-variable_byte_size/no_compression_size)*100))\n",
    "gamma_code_size = store_index(\"storage_gamma_code.json\", \"gamma-code\")\n",
    "print(\"Gamma Code Compression:\", gamma_code_size, \"({:.2f}%)\".format((1-gamma_code_size/no_compression_size)*100))"
   ]
  },
  {
   "cell_type": "code",
   "execution_count": 622,
   "metadata": {
    "id": "3Dm38ZXHFQVH"
   },
   "outputs": [
    {
     "name": "stdout",
     "output_type": "stream",
     "text": [
      "56711\n"
     ]
    }
   ],
   "source": [
    "def decompress_and_reverese_gap_size(pos_index, compress_type):\n",
    "    if len(pos_index) == 0:\n",
    "        return []\n",
    "    \n",
    "    decompress_func = variable_byte_compressor.decompress_string if compress_type == 'variable_byte' else gamma_code_compressor.decompress_string\n",
    "    \n",
    "    # -------------- Creates a compressed pos. index for a single doc -------------- #\n",
    "    def create_decompressed_doc_pos_ind(doc_pos_string, prev_doc):\n",
    "        all_numbers = decompress_func(doc_pos_string)\n",
    "        doc_id = all_numbers[0] + prev_doc\n",
    "        tmp_pos = [all_numbers[1]]\n",
    "        \n",
    "        for i in range(2, len(all_numbers)):\n",
    "            tmp_pos.append(all_numbers[i] + tmp_pos[-1])\n",
    "        \n",
    "        return [doc_id, tmp_pos]\n",
    "    \n",
    "    new_pos_index = []\n",
    "    new_pos_index.append(create_decompressed_doc_pos_ind(pos_index[0], 0))\n",
    "    \n",
    "    n = len(pos_index)\n",
    "    for doc in range(1, n):\n",
    "        new_pos_index.append(create_decompressed_doc_pos_ind(pos_index[doc], new_pos_index[doc-1][0]))\n",
    "        \n",
    "    return new_pos_index\n",
    "# ----------------------------------------- Gamma Code ------------------------------------- #\n",
    "def gamma_code_decompression_pos_index(pos_index):\n",
    "    return decompress_and_reverese_gap_size(pos_index, compress_type='gamma_code')\n",
    "\n",
    "def load_index_gamma_code(path):\n",
    "    global positional_index\n",
    "    \n",
    "    with open(path) as infile: \n",
    "        positional_index = json.load(infile)\n",
    "    \n",
    "    for word in positional_index:\n",
    "         positional_index[word] = [\n",
    "             gamma_code_decompression_pos_index(positional_index[word][0]),\n",
    "             gamma_code_decompression_pos_index(positional_index[word][1])\n",
    "         ]\n",
    "# ----------------------------------------- Variable Byte ------------------------------------- #\n",
    "def variable_byte_decompression_pos_index(pos_index):\n",
    "    return decompress_and_reverese_gap_size(pos_index, compress_type='variable_byte')\n",
    "\n",
    "def load_index_variable_byte(path):\n",
    "    global positional_index\n",
    "    \n",
    "    with open(path) as infile: \n",
    "        positional_index = json.load(infile)\n",
    "    \n",
    "    for word in positional_index:\n",
    "        positional_index[word] = [\n",
    "            variable_byte_decompression_pos_index(positional_index[word][0]),\n",
    "            variable_byte_decompression_pos_index(positional_index[word][1])\n",
    "        ]\n",
    "# ----------------------------------------- No Compression ------------------------------------- #\n",
    "def load_index_no_compression(path):\n",
    "    global positional_index\n",
    "    \n",
    "    with open(path) as infile: \n",
    "        positional_index = json.load(infile)\n",
    "        \n",
    "def load_index(path, compression_type):\n",
    "    function_map = {\n",
    "        \"no-compression\": load_index_no_compression,\n",
    "        \"variable-byte\": load_index_variable_byte,\n",
    "        \"gamma-code\": load_index_gamma_code\n",
    "    }\n",
    "    \n",
    "    function_map[compression_type](path)\n",
    "    \n",
    "    return\n",
    "\n",
    "# load_index(\"storage_no_compression.json\", \"no-compression\")\n",
    "# load_index(\"storage_variable_byte.json\", \"variable-byte\")\n",
    "# load_index(\"storage_gamma_code.json\", \"gamma-code\")\n",
    "print(len(positional_index))"
   ]
  },
  {
   "cell_type": "markdown",
   "metadata": {
    "id": "4i-iLvu2nh2k"
   },
   "source": [
    "<div dir=\"rtl\">\n",
    "<font face=\"XB Zar\" size=4>\n",
    "    <h1>\n",
    "    <b>اصلاح پرسمان (۱۵ نمره امتیازی)</b>\n",
    "    </h1>\n",
    "    در صورتی که پرسمان ورودی دارای غلط املایی باشد یا به عبارتی لغاتی از آن در لغت‌نامه موجود نباشد، لازم است که با جستجوی لغت‌های احتمالی و انتخاب بهترین لغت به ادامه‌ی جستجو با پرسمان اصلاح شده پرداخته شود. برای اینکار ابتدا باید با روش bigram و معیار jaccard نزدیک‌ترین لغات به لغت با غلط املایی را پیدا کنید. سپس با استفاده از معیار edit distance بهترین لغت را از میان آن‌ها بیابید.<br>\n",
    "    نیازی به ذخیره‌سازی و فشرده‌سازی نمایه بایگرم نیست. همچنین می‌توانید از کد آماده برای محاسبه edit distance استفاده کنید.\n",
    "</font>\n",
    "</div>"
   ]
  },
  {
   "cell_type": "markdown",
   "metadata": {},
   "source": [
    "<div dir=\"rtl\">\n",
    "<b>گزارش : </b>\n",
    "    در این بخش ابتدا bigram را از روی داکیومنت ها می سازیم . سپس به کمک این bigram و استفاده از معیار jaccard یک مجموعه جواب محدود تر در میاوریم و سپس با استفاده از edit_distance بهترین جواب را در خروجی می دهیم\n",
    ". همچنین چند نمونه تست از توابع در زیر آمده است . \n",
    "</div>"
   ]
  },
  {
   "cell_type": "code",
   "execution_count": 6,
   "metadata": {
    "id": "qMZTstsbL1G3"
   },
   "outputs": [
    {
     "data": {
      "text/plain": [
       "1621"
      ]
     },
     "execution_count": 6,
     "metadata": {},
     "output_type": "execute_result"
    }
   ],
   "source": [
    "def create_bigram_index():\n",
    "    bigram = {}\n",
    "    \n",
    "    for index, row in movies.iterrows():\n",
    "        doc_id, title, plot = row['id'], row['title'], row['plot']\n",
    "        tokens = prepare_text(title) + prepare_text(plot)\n",
    "        for token in tokens:\n",
    "            token2 = \"$\" + token + \"$\"\n",
    "            for ind in range(len(token2)-1):\n",
    "                bichar = token2[ind:ind+2]\n",
    "                if bichar not in bigram:\n",
    "                    bigram[bichar] = set()\n",
    "                bigram[bichar].add(token)\n",
    "    \n",
    "    for k in bigram:\n",
    "        bigram[k] = list(bigram[k])\n",
    "    \n",
    "    return bigram\n",
    "\n",
    "bigram_global = create_bigram_index()\n",
    "len(bigram_global)"
   ]
  },
  {
   "cell_type": "code",
   "execution_count": 22,
   "metadata": {},
   "outputs": [
    {
     "name": "stdout",
     "output_type": "stream",
     "text": [
      "correct\n",
      "correct\n",
      "correct\n"
     ]
    }
   ],
   "source": [
    "def jaccard_distance(lst1, lst2):\n",
    "    s1 = set([lst1[ind:ind+2] for ind in range(len(lst1)-1)])\n",
    "    s2 = set([lst2[ind:ind+2] for ind in range(len(lst2)-1)])\n",
    "    \n",
    "    return len(s1 & s2)/len(s1 | s2)\n",
    "\n",
    "def find_best_match(query):\n",
    "    # query2 = \"$\" + query + \"$\"\n",
    "    query2 = query\n",
    "    candidates = set()\n",
    "    for ind in range(len(query2)-1):\n",
    "        bichar = query2[ind:ind+2]\n",
    "        for token in bigram_global[bichar]:\n",
    "            candidates.add(token)\n",
    "        \n",
    "    import math\n",
    "    \n",
    "    jaccard_limit = 0.4\n",
    "    best_candidate, best_distance = query, math.inf\n",
    "    for candidate in candidates:\n",
    "        if jaccard_distance(candidate, query) >= jaccard_limit:\n",
    "            tmp_distance = nltk.edit_distance(candidate, query, transpositions=False)\n",
    "            if tmp_distance < best_distance:\n",
    "                best_candidate, best_distance = candidate, tmp_distance\n",
    "    \n",
    "    \n",
    "    return best_candidate\n",
    "\n",
    "print(find_best_match(\"correct\"))\n",
    "print(find_best_match(\"crrect\"))\n",
    "print(find_best_match(\"corect\"))"
   ]
  },
  {
   "cell_type": "code",
   "execution_count": 23,
   "metadata": {
    "colab": {
     "base_uri": "https://localhost:8080/",
     "height": 35
    },
    "id": "sL3E8C-nL1yG",
    "outputId": "d4da236e-728c-4419-e80e-e8a36bd4e85d"
   },
   "outputs": [
    {
     "data": {
      "text/plain": [
       "'the dentures of sherlock holmes'"
      ]
     },
     "execution_count": 23,
     "metadata": {},
     "output_type": "execute_result"
    }
   ],
   "source": [
    "def get_corrected_text(raw_text):\n",
    "    tokens = prepare_text(raw_text)\n",
    "    suggestion = []\n",
    "\n",
    "    for token in tokens:\n",
    "        if token in positional_index or token in stop_words:\n",
    "            suggestion.append(token)\n",
    "            continue\n",
    "        \n",
    "        suggestion.append(find_best_match(token))\n",
    "    \n",
    "    corrected_text = \" \".join(suggestion)\n",
    "    \n",
    "    return corrected_text\n",
    "\n",
    "get_corrected_text(\"the adevntures of herlock holmes\")"
   ]
  },
  {
   "cell_type": "markdown",
   "metadata": {
    "id": "-BWhdHJbs1zy"
   },
   "source": [
    "<div dir=\"rtl\">\n",
    "<font face=\"XB Zar\" size=4>\n",
    "    <h1>\n",
    "    <b>جستجو و بازیابی اسناد (۲۵ نمره)</b>\n",
    "    </h1>\n",
    "    در این بخش جستجو ترتیب‌دار در فضای برداری tf-idf به روش <b>lnn-ltn</b> انجام می‌شود. یک پرسمان title و یک پرسمان plot ورودی گرفته شده و هر کدام در بخش مربوطه از اسناد جستجو می‌شوند. امتیاز نهایی هر سند برابر با جمع وزن‌دار امتیاز به دست آمده از جستجو در بخش title و plot است. به این صورت که وزن plot واحد در نظر گرفته شده و وزن تایتل به عنوان ورودی داده می‌شود.<br>\n",
    "    در نهایت اسناد برتر را نمایش دهید. تعداد حداکثر اسناد برتر نیز به عنوان ورودی داده می‌شود.<br><br>\n",
    "    نکته بسیار مهم نحوه نمایش اسناد انتخابی است. برای نمایش هر سند علاوه بر استفاده از شناسه و تیتر، یک هایلایت برای آن درست کنید. به این معنا که کلمات موجود در پرسمان را که باعث انتخاب سند شده‌اند به همراه ۲-۳ ترم قبل و بعد از آن به عنوان هایلایت آن سند نمایش دهید. اینگونه کاربر می‌تواند خیلی سریع دلیل بازیابی اسناد توسط سامانه را متوجه شود. مشابه کاری که سرچ گوگل انجام می‌دهد و ۲-۳ خط مربوطه را زیر وبسایت‌های پیشنهادی نمایش می‌دهد. طبیعتا راه حل بهینه برای این‌کار استفاده از قابلیت‌های نمایه جایگاهی می‌باشد.<br>\n",
    "</font>\n",
    "</div>"
   ]
  },
  {
   "cell_type": "markdown",
   "metadata": {},
   "source": [
    "<div dir=\"rtl\">\n",
    "    <b>گزارش : </b>\n",
    "    در این قسمت برای پیاده سازی سرچ در ابتدا آن را اصلاح می کنیم (به کمک تابعی که در بالا تعریف کردیم)\n",
    "    سپس با استفاده از تابع search_single_query که کار آن محاسبه score و ... یک کویری برای یک بخش خاص می باشد ، score doc هارا بدست میاوریم و پس از merge کردن نتایج با استفاده از تابع highlight_text و prepare_output_result نتایج نهایی را آماده سازی میکنیم\n",
    "</div>"
   ]
  },
  {
   "cell_type": "code",
   "execution_count": 24,
   "metadata": {
    "colab": {
     "base_uri": "https://localhost:8080/"
    },
    "id": "R0R2i_O4Gev_",
    "outputId": "7f57be29-eec0-489e-dd61-74d67c923106"
   },
   "outputs": [
    {
     "data": {
      "text/plain": [
       "[[4,\n",
       "  'the call of the <b>wild</b>',\n",
       "  '... white girl <b>florence</b> lawrence reject ... in film <b>florence</b> lawrence be ... the most <b>popular</b> among the ...'],\n",
       " [4864,\n",
       "  '<b>wild</b> things',\n",
       "  'a <b>popular</b> miami area ... wealthy and <b>popular</b> girl name ...'],\n",
       " [2238,\n",
       "  'davy crockett king of the <b>wild</b> frontier',\n",
       "  '... become a <b>popular</b> member of ...']]"
      ]
     },
     "execution_count": 24,
     "metadata": {},
     "output_type": "execute_result"
    }
   ],
   "source": [
    "def search_single_query(query, is_title):\n",
    "    from math import log10\n",
    "    \n",
    "    ind = 0 if is_title else 1\n",
    "    q_tokens = prepare_text(query)\n",
    "    \n",
    "    # --------- Query tf --------- #\n",
    "    q_tf_raw = {}\n",
    "    for t in q_tokens:\n",
    "        if t not in q_tf_raw:\n",
    "            q_tf_raw[t] = 0\n",
    "        q_tf_raw[t] += 1\n",
    "    q_tf_wt = {k: 1 + log10(v) for k, v in q_tf_raw.items()}\n",
    "    # --------- Query idf --------- #\n",
    "    N = len(movies)\n",
    "    df_t = {k: len(positional_index[k][ind]) if k in positional_index else 0 for k in q_tf_wt}\n",
    "    q_idf = {k: log10(N/v) if v != 0 else 0 for k, v in df_t.items()}\n",
    "    # --------- Query wt --------- #\n",
    "    q_wt = {k: q_tf_wt[k] * q_idf[k] for k in q_tf_wt.keys()}\n",
    "    \n",
    "    # --------- Term at a time approach --------- #\n",
    "    docs = {}\n",
    "    for t in q_wt.keys():\n",
    "        if t not in positional_index:\n",
    "            continue\n",
    "            \n",
    "        pos_list = positional_index[t][ind]\n",
    "        for d in pos_list:\n",
    "            doc_id = d[0]\n",
    "            doc_list = d[1]\n",
    "            \n",
    "            if doc_id not in docs:\n",
    "                docs[doc_id] = {\n",
    "                    \"score\": 0,\n",
    "                    \"occur\": [],\n",
    "                }\n",
    "            \n",
    "            d_tf = len(d[1])\n",
    "            d_wt = 1 + log10(d_tf)\n",
    "            docs[doc_id]['score'] += d_wt * q_wt[t]\n",
    "            docs[doc_id]['occur'] += d[1]\n",
    "    \n",
    "    return docs\n",
    "\n",
    "def highlight_text(text, keywords_pos, words_around=2):\n",
    "    if len(keywords_pos) == 0:\n",
    "        return \"\"\n",
    "    \n",
    "    # Dictionary for lookup in O(1)\n",
    "    keywords_pos_dict = {i for i in keywords_pos}\n",
    "    \n",
    "    # --------- Add words around the keywords --------- #\n",
    "    tokens = prepare_text(text)\n",
    "    show_ind = set()\n",
    "    n = len(tokens)\n",
    "    if words_around == -1: # this is for title case ...\n",
    "        show_ind = set([i for i in range(1, n+1)])\n",
    "    else :\n",
    "        for pos in keywords_pos:\n",
    "            for i in range(pos-words_around, pos+words_around+1):\n",
    "                show_ind.add(min(max(1, i), n))\n",
    "    # --------- Build highlighted result --------- #\n",
    "    show_ind = sorted(show_ind)\n",
    "    prev = show_ind[0]\n",
    "    result = [\"<b>\"+tokens[prev-1]+\"</b>\" if prev in keywords_pos_dict else tokens[prev-1]]\n",
    "    if prev > 1:\n",
    "        result.insert(0, '...')\n",
    "    for i in range(1, len(show_ind)):\n",
    "        ind = show_ind[i]\n",
    "        if ind != prev + 1:\n",
    "            result.append(\"...\")\n",
    "        token = tokens[ind-1]\n",
    "        if ind in keywords_pos_dict:\n",
    "            token = \"<b>\" + token + \"</b>\"\n",
    "        result.append(token)\n",
    "        prev = ind\n",
    "    if show_ind[-1] < n:\n",
    "        result.append('...')\n",
    "\n",
    "    return \" \".join(result)\n",
    "        \n",
    "\n",
    "def prepare_output_result(results):\n",
    "    output = []\n",
    "    for doc_id in results:\n",
    "        doc = movies[movies['id'] == doc_id]\n",
    "        doc_title, doc_plot = doc['title'].iat[0], doc['plot'].iat[0]\n",
    "        highlight = highlight_text(doc_plot, results[doc_id]['occur']['plot'])\n",
    "        output.append([\n",
    "            doc_id,\n",
    "            highlight_text(doc_title, results[doc_id]['occur']['title'], words_around=-1),\n",
    "            highlight.strip()\n",
    "        ])\n",
    "    \n",
    "    return output\n",
    "\n",
    "def search(title_query, plot_query, title_weight, max_result_count=10):\n",
    "    # ------------------------ Get corrected query text ------------------------ #\n",
    "    title_query, plot_query = get_corrected_text(title_query), get_corrected_text(plot_query)\n",
    "    # ------------------------ Search in title and plot and merge results ------------------------ #\n",
    "    title_search_result, plot_search_result = search_single_query(title_query, True), search_single_query(plot_query, False)\n",
    "    all_docs = set(list(title_search_result.keys()) + list(plot_search_result.keys()))\n",
    "    doc_results = {}\n",
    "    for doc in all_docs:\n",
    "        title_score = title_search_result[doc]['score'] if doc in title_search_result else 0\n",
    "        plot_score = plot_search_result[doc]['score'] if doc in plot_search_result else 0\n",
    "        doc_results[doc] = {}\n",
    "        doc_results[doc]['score'] = title_score*title_weight + plot_score\n",
    "        doc_results[doc]['occur'] = {\n",
    "            'title': title_search_result[doc]['occur'] if doc in title_search_result else [],\n",
    "            'plot': plot_search_result[doc]['occur'] if doc in plot_search_result else [],\n",
    "        }\n",
    "    result_size = min(max_result_count, len(doc_results))\n",
    "    top_k_results = {k: v for k, v in sorted(doc_results.items(), key=lambda item: item[1]['score'], reverse=True)[:result_size]}\n",
    "\n",
    "    return prepare_output_result(top_k_results)\n",
    "\n",
    "search(\"wild\", \"Florence popular\", 10, 3)"
   ]
  },
  {
   "cell_type": "markdown",
   "metadata": {
    "id": "gBig369C6wSC"
   },
   "source": [
    "<div dir=\"rtl\">\n",
    "<font face=\"XB Zar\" size=4>\n",
    "    <h1>\n",
    "    <b>ارزیابی عملکرد سامانه (۱۰ نمره)</b>\n",
    "    </h1>\n",
    "    همانطور که در بخش مربوط به مجموعه دادگان گفته شد، تعدادی پرسمان نمونه به همراه اسناد مورد نظر برای آن‌ها در اختیار شما قرار گرفته است. در هر مورد اطلاعات لازم برای ایجاد یک پرسمان ذکر شده است. مطابق آن‌ها پرسمان خود را ایجاد کنید. نتایج به دست آمده از هر پرسمان را به عنوان predicted results آن پرسمان در نظر بگیرید. همچنین در هر مورد لیستی از شناسه‌ها وجود دارد. این لیست را به عنوان actual results در نظر بگیرید. <br>\n",
    "    معیار‌های زیر را پیاده‌سازی کنید (بدون استفاده از کد آماده) و نتیجه این معیارها را روی مجموعه‌ی actual و predicted گزارش کنید. دقت کنید که به ازای هر پرسمان باید تمام معیارها را در قالب یک جدول گزارش کنید.<br> دقت کنید که ۳ پرسمان آخر فقط برای افرادی که بخش spell correction را پیاده کرد‌ه‌اند نتیجه مطلوب دارد.\n",
    "</font>\n",
    "</div>"
   ]
  },
  {
   "cell_type": "code",
   "execution_count": 10,
   "metadata": {},
   "outputs": [],
   "source": [
    "# ------------ Helper functions ------------ #\n",
    "def intersection(lst1, lst2):\n",
    "    return list(set(lst1) & set(lst2))\n",
    "\n",
    "def union(lst1, lst2):\n",
    "    return set(set(lst1) | set(lst2))"
   ]
  },
  {
   "cell_type": "code",
   "execution_count": 11,
   "metadata": {
    "colab": {
     "base_uri": "https://localhost:8080/"
    },
    "id": "aPfEVezQIsmb",
    "outputId": "28b08705-5d4f-47e6-baec-3372f3e3293c"
   },
   "outputs": [
    {
     "data": {
      "text/plain": [
       "0.3333333333333333"
      ]
     },
     "execution_count": 11,
     "metadata": {},
     "output_type": "execute_result"
    }
   ],
   "source": [
    "def precision(actual, predicted):\n",
    "    return len(intersection(actual, predicted)) / len(predicted)\n",
    "\n",
    "precision([1,2], [1, 4, 5])"
   ]
  },
  {
   "cell_type": "code",
   "execution_count": 12,
   "metadata": {
    "colab": {
     "base_uri": "https://localhost:8080/"
    },
    "id": "is4nfSw1LQoQ",
    "outputId": "cc2a4388-464b-4d67-cb86-32617e3e526d"
   },
   "outputs": [
    {
     "data": {
      "text/plain": [
       "0.5"
      ]
     },
     "execution_count": 12,
     "metadata": {},
     "output_type": "execute_result"
    }
   ],
   "source": [
    "def recall(actual, predicted):\n",
    "    return len(intersection(actual, predicted)) / len(actual)\n",
    "\n",
    "recall([1,2], [1, 4, 5])"
   ]
  },
  {
   "cell_type": "code",
   "execution_count": 13,
   "metadata": {
    "colab": {
     "base_uri": "https://localhost:8080/"
    },
    "id": "eYHYwRgTLVRA",
    "outputId": "d749daf0-102d-4855-e292-21dcd137d6be"
   },
   "outputs": [
    {
     "data": {
      "text/plain": [
       "0.4"
      ]
     },
     "execution_count": 13,
     "metadata": {},
     "output_type": "execute_result"
    }
   ],
   "source": [
    "def f1_score(actual, predicted):\n",
    "    p, r = precision(actual, predicted), recall(actual, predicted)\n",
    "    f1_score = (2*p*r)/(r + p) if r+p != 0 else 0\n",
    "    \n",
    "    return f1_score\n",
    "\n",
    "f1_score([1,2], [1, 4, 5])"
   ]
  },
  {
   "cell_type": "code",
   "execution_count": 14,
   "metadata": {
    "colab": {
     "base_uri": "https://localhost:8080/"
    },
    "id": "bZg-_PUPLZ31",
    "outputId": "e85b9efa-3b9b-470e-8b93-f474585da6c9"
   },
   "outputs": [
    {
     "data": {
      "text/plain": [
       "1.0"
      ]
     },
     "execution_count": 14,
     "metadata": {},
     "output_type": "execute_result"
    }
   ],
   "source": [
    "def map_score(actual, predicted):\n",
    "    sum_pa = 0\n",
    "    for i in range(len(predicted)):\n",
    "        d = predicted[i]\n",
    "        if d in actual:\n",
    "            sum_pa += precision(actual, predicted[:i+1])\n",
    "    map_score = sum_pa / len(intersection(actual, predicted)) if len(intersection(actual, predicted)) != 0 else 0\n",
    "    \n",
    "    return map_score\n",
    "\n",
    "map_score([1,2], [1, 4, 5])"
   ]
  },
  {
   "cell_type": "code",
   "execution_count": 15,
   "metadata": {
    "colab": {
     "base_uri": "https://localhost:8080/"
    },
    "id": "OgOKEbMNLf-r",
    "outputId": "b38f683a-7224-411b-efb4-8fe7ce4eb328"
   },
   "outputs": [
    {
     "data": {
      "text/plain": [
       "0.5"
      ]
     },
     "execution_count": 15,
     "metadata": {},
     "output_type": "execute_result"
    }
   ],
   "source": [
    "def ndcg_score(actual, predicted):\n",
    "    from math import log2\n",
    "    \n",
    "    dcg = int(predicted[0] in actual) +  sum([int(predicted[i] in actual)/log2(i+1) for i in range(1, len(predicted))])\n",
    "    max_dcg = 1 + sum([1/log2(i+1) for i in range(1, len(actual))])\n",
    "    ndcg_score = dcg/max_dcg\n",
    "    \n",
    "    return ndcg_score\n",
    "\n",
    "ndcg_score([1,2], [1, 4, 5])"
   ]
  },
  {
   "cell_type": "code",
   "execution_count": 25,
   "metadata": {},
   "outputs": [
    {
     "name": "stdout",
     "output_type": "stream",
     "text": [
      "------- Validation #1 -------\n",
      "Predicted (size=10) : [626, 1812, 3297, 111, 74, 4213, 3296, 4507, 2760, 5312]\n",
      "Actual (size=10) : [626, 1812, 3297, 111, 74, 4213, 3296, 4507, 2760, 2039]\n",
      "Intersection (size=9) : [3296, 3297, 2760, 74, 111, 626, 1812, 4213, 4507]\n",
      "------- Validation #2 -------\n",
      "Predicted (size=2) : [5180, 3152]\n",
      "Actual (size=2) : [5180, 3152]\n",
      "Intersection (size=2) : [3152, 5180]\n",
      "------- Validation #3 -------\n",
      "Predicted (size=7) : [4643, 4471, 5122, 4836, 3661, 3517, 4105]\n",
      "Actual (size=7) : [4643, 4471, 5122, 4836, 3661, 3517, 4105]\n",
      "Intersection (size=7) : [5122, 4643, 4836, 4105, 3661, 4471, 3517]\n",
      "------- Validation #4 -------\n",
      "Predicted (size=12) : [4670, 4971, 5749, 5309, 5514, 4920, 1136, 4754, 1824, 722, 4160, 4631]\n",
      "Actual (size=12) : [4670, 4971, 5309, 1136, 4920, 5475, 2871, 4160, 4357, 794, 5749, 4754]\n",
      "Intersection (size=8) : [4160, 4971, 1136, 4754, 5749, 4920, 5309, 4670]\n",
      "------- Validation #5 -------\n",
      "Predicted (size=1) : [5903]\n",
      "Actual (size=1) : [5903]\n",
      "Intersection (size=1) : [5903]\n",
      "------- Validation #6 -------\n",
      "Predicted (size=1) : [5625]\n",
      "Actual (size=1) : [5625]\n",
      "Intersection (size=1) : [5625]\n",
      "------- Validation #7 -------\n",
      "Predicted (size=1) : [5153]\n",
      "Actual (size=1) : [5153]\n",
      "Intersection (size=1) : [5153]\n"
     ]
    },
    {
     "data": {
      "text/html": [
       "<div>\n",
       "<style scoped>\n",
       "    .dataframe tbody tr th:only-of-type {\n",
       "        vertical-align: middle;\n",
       "    }\n",
       "\n",
       "    .dataframe tbody tr th {\n",
       "        vertical-align: top;\n",
       "    }\n",
       "\n",
       "    .dataframe thead th {\n",
       "        text-align: right;\n",
       "    }\n",
       "</style>\n",
       "<table border=\"1\" class=\"dataframe\">\n",
       "  <thead>\n",
       "    <tr style=\"text-align: right;\">\n",
       "      <th></th>\n",
       "      <th>Precision</th>\n",
       "      <th>Recall</th>\n",
       "      <th>F1 Score</th>\n",
       "      <th>MAP Score</th>\n",
       "      <th>NDCG Score</th>\n",
       "    </tr>\n",
       "  </thead>\n",
       "  <tbody>\n",
       "    <tr>\n",
       "      <th>0</th>\n",
       "      <td>0.900000</td>\n",
       "      <td>0.900000</td>\n",
       "      <td>0.900000</td>\n",
       "      <td>1.000000</td>\n",
       "      <td>0.942710</td>\n",
       "    </tr>\n",
       "    <tr>\n",
       "      <th>1</th>\n",
       "      <td>1.000000</td>\n",
       "      <td>1.000000</td>\n",
       "      <td>1.000000</td>\n",
       "      <td>1.000000</td>\n",
       "      <td>1.000000</td>\n",
       "    </tr>\n",
       "    <tr>\n",
       "      <th>2</th>\n",
       "      <td>1.000000</td>\n",
       "      <td>1.000000</td>\n",
       "      <td>1.000000</td>\n",
       "      <td>1.000000</td>\n",
       "      <td>1.000000</td>\n",
       "    </tr>\n",
       "    <tr>\n",
       "      <th>3</th>\n",
       "      <td>0.666667</td>\n",
       "      <td>0.666667</td>\n",
       "      <td>0.666667</td>\n",
       "      <td>0.911594</td>\n",
       "      <td>0.772243</td>\n",
       "    </tr>\n",
       "    <tr>\n",
       "      <th>4</th>\n",
       "      <td>1.000000</td>\n",
       "      <td>1.000000</td>\n",
       "      <td>1.000000</td>\n",
       "      <td>1.000000</td>\n",
       "      <td>1.000000</td>\n",
       "    </tr>\n",
       "    <tr>\n",
       "      <th>5</th>\n",
       "      <td>1.000000</td>\n",
       "      <td>1.000000</td>\n",
       "      <td>1.000000</td>\n",
       "      <td>1.000000</td>\n",
       "      <td>1.000000</td>\n",
       "    </tr>\n",
       "    <tr>\n",
       "      <th>6</th>\n",
       "      <td>1.000000</td>\n",
       "      <td>1.000000</td>\n",
       "      <td>1.000000</td>\n",
       "      <td>1.000000</td>\n",
       "      <td>1.000000</td>\n",
       "    </tr>\n",
       "  </tbody>\n",
       "</table>\n",
       "</div>"
      ],
      "text/plain": [
       "   Precision    Recall  F1 Score  MAP Score  NDCG Score\n",
       "0   0.900000  0.900000  0.900000   1.000000    0.942710\n",
       "1   1.000000  1.000000  1.000000   1.000000    1.000000\n",
       "2   1.000000  1.000000  1.000000   1.000000    1.000000\n",
       "3   0.666667  0.666667  0.666667   0.911594    0.772243\n",
       "4   1.000000  1.000000  1.000000   1.000000    1.000000\n",
       "5   1.000000  1.000000  1.000000   1.000000    1.000000\n",
       "6   1.000000  1.000000  1.000000   1.000000    1.000000"
      ]
     },
     "execution_count": 25,
     "metadata": {},
     "output_type": "execute_result"
    }
   ],
   "source": [
    "# -------------- Validation -------------- #\n",
    "with open('validation.json') as f:\n",
    "    validations = json.load(f)\n",
    "    \n",
    "df = pd.DataFrame(columns=['Precision', 'Recall', 'F1 Score', 'MAP Score', 'NDCG Score'])\n",
    "v_cnt = 1\n",
    "for v in validations:\n",
    "    results = search(v['title_query'], v['plot_query'], v['title_weight'], v['max_size'])\n",
    "    predicted = [result[0] for result in results]\n",
    "    actual = v['doc_ids']\n",
    "    df.loc[len(df)] = [\n",
    "        precision(actual, predicted),\n",
    "        recall(actual, predicted),\n",
    "        f1_score(actual, predicted),\n",
    "        map_score(actual, predicted),\n",
    "        ndcg_score(actual, predicted)\n",
    "    ]\n",
    "    \n",
    "    # ----------------- Logging Validation result ----------------- #\n",
    "    print(\"------- Validation #{} -------\".format(v_cnt))\n",
    "    print(\"Predicted (size={}) :\".format(len(predicted)), predicted)\n",
    "    print(\"Actual (size={}) :\".format(len(actual)), actual)\n",
    "    print(\"Intersection (size={}) :\".format(len(intersection(predicted, actual))), intersection(predicted, actual))\n",
    "    v_cnt += 1\n",
    "\n",
    "df"
   ]
  },
  {
   "cell_type": "markdown",
   "metadata": {
    "id": "SHVlw0kVBUW4"
   },
   "source": [
    "<div dir=\"rtl\">\n",
    "<font face=\"XB Zar\" size=4>\n",
    "    <h1>\n",
    "    <b>نکات پایانی</b>\n",
    "    </h1>\n",
    "    \n",
    "\n",
    "1.   سیستم را بهینه پیاده‌سازی کنید تا در زمان کمتری بارگذاری و نمایه‌سازی  انجام شود.\n",
    "2.   تمام قطعه‌ کدهای بالا باید توسط شما تکمیل شود. نوت‌بوک نهایی باید بدون خطا اجرا شود. اگر تمام کدهای استفاده شده در همین فایل نیست،‌ حتما آن‌ها را نیز به همراه نوت‌بوک در کوئرا آپلود کنید.\n",
    "3.    اسم توابع و نحوه ورودی گرفتن و خروجی دادن آن‌ها را تغییر ندهید. بقیه اجزای توابع صرفا برای شهود بیشتر شما نوشته شده‌اند و نیازی به نگه‌داری آن‌ها نیست.\n",
    "4.   در صورت امکان استفاده از کد آماده مشخصا این مورد برای بخش مربوطه ذکر شده است. اگر چیزی در این مورد ذکر نشده نمی‌توانید از کد آماده استفاده کنید.\n",
    "5.    فایل داده‌ها را در کوئرا آپلود نکنید.\n",
    "6.    فایل زیپ نهایی و فایل نوت‌بوک حتما به فرمت StudentNumber_phase1 نامگذاری شود.\n",
    "\n",
    "\n",
    "<b>سالم و موفق باشید.</b>\n",
    "\n",
    "</font>\n",
    "</div>"
   ]
  },
  {
   "cell_type": "markdown",
   "metadata": {},
   "source": [
    "# TA Evaluations"
   ]
  },
  {
   "cell_type": "code",
   "execution_count": 17,
   "metadata": {},
   "outputs": [],
   "source": [
    "test_case = [\n",
    "  {\n",
    "    \"max_size\": 8,\n",
    "    \"plot_query\": \"the Scorpion King leads his army on a campaign to conquer the world.\",\n",
    "    \"title_query\": \"The Mummy Returns\",\n",
    "    \"title_weight\": 1\n",
    "  },\n",
    "  {\n",
    "    \"max_size\": 4,\n",
    "    \"plot_query\": \"Jeremy takes John to a wedding for a daughter of the U.S. Secretary of the Treasury\\nJohn and Jeremy become acquainted with the Clearys at their home.\",\n",
    "    \"title_query\": \"\",\n",
    "    \"title_weight\": 1\n",
    "  },\n",
    "  {\n",
    "    \"max_size\": 10,\n",
    "    \"plot_query\": \"One of them, later known as The Fallen, defies their sole rule to never destroy planets hosting life by establishing a Sun Harvester on Earth. \",\n",
    "    \"title_query\": \"\",\n",
    "    \"title_weight\": 1\n",
    "  },\n",
    "  {\n",
    "    \"max_size\": 11,\n",
    "    \"plot_query\": \"jim and his mother are in a birthday celebration. he finds a mysterious map but a sailor with one leg looks for it too. The pirates want to kill Jim. Silver protects him. Jim frees Silver. As he sails away, Silver promises to hunt treasure with Jim again some day.\",\n",
    "    \"title_query\": \"Treasure Island\",\n",
    "    \"title_weight\": 4\n",
    "  },\n",
    "  {\n",
    "    \"max_size\": 2,\n",
    "    \"plot_query\": \"Neo, humanity's only hope of stopping the war and saving Zion, attempts to broker peace between the machines and humans.\",\n",
    "    \"title_query\": \"\",\n",
    "    \"title_weight\": 4\n",
    "  },\n",
    "  {\n",
    "    \"max_size\": 8,\n",
    "    \"plot_query\": \"Captain Jean Luc Picard awaken from a nightmare.\\nThe Enterprise arrives in time to assist the crew of the USS Defiant and its captain.\\nThe Enterprise arrives hundreds of years in its past on April 4, 2063, the day before humanity's first encounter with alien life.\",\n",
    "    \"title_query\": \"Star Trek\",\n",
    "    \"title_weight\": 4\n",
    "  },\n",
    "  {\n",
    "    \"max_size\": 13,\n",
    "    \"plot_query\": \"In a murder trial, 12 men act as the jury to decide whether or not the boy is guilty for murdering his father. The lawyers won't help the boy as he has a weapon.\",\n",
    "    \"title_query\": \"\",\n",
    "    \"title_weight\": 4\n",
    "  },\n",
    "]"
   ]
  },
  {
   "cell_type": "code",
   "execution_count": 20,
   "metadata": {},
   "outputs": [
    {
     "data": {
      "text/html": [
       "<div><b>Title:</b> The Mummy Returns</div>"
      ],
      "text/plain": [
       "<IPython.core.display.HTML object>"
      ]
     },
     "metadata": {},
     "output_type": "display_data"
    },
    {
     "data": {
      "text/html": [
       "<div><b>Plot:</b> the Scorpion King leads his army on a campaign to conquer the world.</div>"
      ],
      "text/plain": [
       "<IPython.core.display.HTML object>"
      ]
     },
     "metadata": {},
     "output_type": "display_data"
    },
    {
     "data": {
      "text/html": [
       "<div><b>Predicted:</b> [5060, 5139, 2818, 2436, 5550, 4925, 5772, 5246]</div>"
      ],
      "text/plain": [
       "<IPython.core.display.HTML object>"
      ]
     },
     "metadata": {},
     "output_type": "display_data"
    },
    {
     "data": {
      "text/html": [
       "<div><b>1:</b></div>"
      ],
      "text/plain": [
       "<IPython.core.display.HTML object>"
      ]
     },
     "metadata": {},
     "output_type": "display_data"
    },
    {
     "data": {
      "text/html": [
       "<div>the <b>mummy</b> <b>return</b></div>"
      ],
      "text/plain": [
       "<IPython.core.display.HTML object>"
      ]
     },
     "metadata": {},
     "output_type": "display_data"
    },
    {
     "data": {
      "text/html": [
       "<div>... bc the <b>scorpion</b> <b>king</b> <b>lead</b> his <b>army</b> on a <b>campaign</b> to <b>conquer</b> the <b>world</b> seven years later his <b>army</b> be defeat ... hide the <b>scorpion</b> kings pyramid ... warriors the <b>army</b> of anubis ... claim the <b>scorpion</b> kings soul and his <b>army</b> in 1933 ... on the <b>scorpion</b> kings pyramid ... defeat the <b>scorpion</b> <b>king</b> give him ... of anubiss <b>army</b> to take over the <b>world</b> the cult <b>lead</b> by baltus ... case anubiss <b>army</b> rise evelyn ... revive the <b>army</b> of anubis ... summon the <b>scorpion</b> <b>king</b> and fight ... but the <b>scorpion</b> <b>king</b> interrupt them ... battle anubiss <b>army</b> of jackal ... and the <b>scorpion</b> <b>king</b> fight baltus ... kill the <b>scorpion</b> <b>king</b> the medjai defeat anubis <b>army</b> but find ... send the <b>scorpion</b> <b>king</b> and his <b>army</b> back to ... kill the <b>scorpion</b> <b>king</b> with the ... pit that <b>lead</b> to the ...</div><br>"
      ],
      "text/plain": [
       "<IPython.core.display.HTML object>"
      ]
     },
     "metadata": {},
     "output_type": "display_data"
    },
    {
     "data": {
      "text/html": [
       "<div><b>2:</b></div>"
      ],
      "text/plain": [
       "<IPython.core.display.HTML object>"
      ]
     },
     "metadata": {},
     "output_type": "display_data"
    },
    {
     "data": {
      "text/html": [
       "<div></div>"
      ],
      "text/plain": [
       "<IPython.core.display.HTML object>"
      ]
     },
     "metadata": {},
     "output_type": "display_data"
    },
    {
     "data": {
      "text/html": [
       "<div>... the prehistoric <b>world</b> <b>lead</b> by the ... law be <b>king</b> for be ... hire by <b>king</b> pheron of ... and nubian <b>king</b> balthazar who ... with a <b>scorpion</b> bloodlaced arrow ... and his <b>army</b> slaughter the ... palace the <b>king</b> on high ... the invincible <b>scorpion</b> <b>king</b> and memnon ... become the <b>scorpion</b> <b>king</b> furthermore she ... and the <b>army</b> of rebel ... become the <b>scorpion</b> <b>king</b> cassandra kill ... of memnons <b>army</b> bow before ... their new <b>king</b> the <b>scorpion</b> <b>king</b> in the ...</div><br>"
      ],
      "text/plain": [
       "<IPython.core.display.HTML object>"
      ]
     },
     "metadata": {},
     "output_type": "display_data"
    },
    {
     "data": {
      "text/html": [
       "<hr>"
      ],
      "text/plain": [
       "<IPython.core.display.HTML object>"
      ]
     },
     "metadata": {},
     "output_type": "display_data"
    },
    {
     "data": {
      "text/html": [
       "<div><b>Title:</b> </div>"
      ],
      "text/plain": [
       "<IPython.core.display.HTML object>"
      ]
     },
     "metadata": {},
     "output_type": "display_data"
    },
    {
     "data": {
      "text/html": [
       "<div><b>Plot:</b> Jeremy takes John to a wedding for a daughter of the U.S. Secretary of the Treasury\n",
       "John and Jeremy become acquainted with the Clearys at their home.</div>"
      ],
      "text/plain": [
       "<IPython.core.display.HTML object>"
      ]
     },
     "metadata": {},
     "output_type": "display_data"
    },
    {
     "data": {
      "text/html": [
       "<div><b>Predicted:</b> [5324, 647, 5365, 3523]</div>"
      ],
      "text/plain": [
       "<IPython.core.display.HTML object>"
      ]
     },
     "metadata": {},
     "output_type": "display_data"
    },
    {
     "data": {
      "text/html": [
       "<div><b>1:</b></div>"
      ],
      "text/plain": [
       "<IPython.core.display.HTML object>"
      ]
     },
     "metadata": {},
     "output_type": "display_data"
    },
    {
     "data": {
      "text/html": [
       "<div></div>"
      ],
      "text/plain": [
       "<IPython.core.display.HTML object>"
      ]
     },
     "metadata": {},
     "output_type": "display_data"
    },
    {
     "data": {
      "text/html": [
       "<div><b>john</b> beckwith owen wilson and <b>jeremy</b> grey vince ... who crash <b>wed</b> party to ... successful crash <b>jeremy</b> <b>take</b> <b>john</b> to a <b>wed</b> for a <b>daughter</b> of the <b>us</b> <b>secretary</b> of the <b>treasury</b> william cleary ... sight on <b>clearys</b> other daughters ... rachel mcadams <b>jeremy</b> end up ... and quickly <b>become</b> obsess with <b>jeremy</b> and <b>jeremy</b> urge <b>john</b> to escape ... him meanwhile <b>john</b> attempt to ... gloria invite <b>jeremy</b> and <b>john</b> to an ... family compound <b>john</b> overrule <b>jeremy</b> to accept ... to claire <b>john</b> and <b>jeremy</b> <b>become</b> <b>acquaint</b> with the <b>clearys</b> at their <b>home</b> the secretarys ... sexually harass <b>john</b> glorias brother ... to seduce <b>jeremy</b> during the ... attention on <b>jeremy</b> and sack repeatedly injure <b>jeremy</b> during a ... at dinner <b>john</b> spike sack ... with claire <b>john</b> and claire ... suspicious sack <b>take</b> the men ... trip where <b>jeremy</b> be shoot ... he recover <b>john</b> and claire ... up kiss <b>john</b> passionately meanwhile ... let on <b>jeremy</b> realize that ... marry sack <b>john</b> be interrupt by <b>jeremy</b> be chase ... and reveal <b>john</b> and jeremys ... away from <b>john</b> and the <b>secretary</b> tell them ... follow months <b>john</b> attempt to ... see him <b>john</b> attempt to ... sack confront <b>jeremy</b> about abandon ... learn that <b>jeremy</b> have secretly ... gloria betray <b>john</b> spiral into ... alone and <b>become</b> nihilistic and ... plan their <b>wed</b> claires doubt grow <b>jeremy</b> propose to ... to ask <b>john</b> to be ... a depress <b>john</b> refuse <b>john</b> visit jeremys former <b>wed</b> crash mentor ... to jeremys <b>wed</b> <b>john</b> join the <b>wed</b> midceremony to ... appearance prompt <b>john</b> to profess ... to attack <b>john</b> but <b>jeremy</b> intervene to ... out and <b>john</b> and claire ... after the <b>wed</b> the two ... crash another <b>wed</b> together</div><br>"
      ],
      "text/plain": [
       "<IPython.core.display.HTML object>"
      ]
     },
     "metadata": {},
     "output_type": "display_data"
    },
    {
     "data": {
      "text/html": [
       "<div><b>2:</b></div>"
      ],
      "text/plain": [
       "<IPython.core.display.HTML object>"
      ]
     },
     "metadata": {},
     "output_type": "display_data"
    },
    {
     "data": {
      "text/html": [
       "<div></div>"
      ],
      "text/plain": [
       "<IPython.core.display.HTML object>"
      ]
     },
     "metadata": {},
     "output_type": "display_data"
    },
    {
     "data": {
      "text/html": [
       "<div>... edmund lowe <b>take</b> a few ... back to <b>us</b> anonymously who ... member unbilled <b>john</b> ince second ... refrigerator a <b>secretary</b> not too ... a showgirltype <b>secretary</b> unbilled iris ... return fletcher <b>take</b> grayson and ... who would <b>take</b> her <b>home</b> she peek ... new blonde <b>secretary</b> unbilled carol ... conversation about <b>wed</b> bell because ... go your <b>wed</b> bell now ... fletchers driver <b>take</b> him and ... another new <b>secretary</b> miss appleby ... a new <b>secretary</b> every three ... her to <b>take</b> a letter ... tell him <b>john</b> when your ... pay his <b>daughter</b> adeline after ... fletcher return <b>home</b> and tell ... adrienne and <b>john</b> arrive at ... to shadow <b>john</b> grayson the ... avenue… streetcar… <b>john</b> pull a ... the name <b>john</b> harmon and ... he wish <b>john</b> and adrienne ...</div><br>"
      ],
      "text/plain": [
       "<IPython.core.display.HTML object>"
      ]
     },
     "metadata": {},
     "output_type": "display_data"
    },
    {
     "data": {
      "text/html": [
       "<hr>"
      ],
      "text/plain": [
       "<IPython.core.display.HTML object>"
      ]
     },
     "metadata": {},
     "output_type": "display_data"
    },
    {
     "data": {
      "text/html": [
       "<div><b>Title:</b> </div>"
      ],
      "text/plain": [
       "<IPython.core.display.HTML object>"
      ]
     },
     "metadata": {},
     "output_type": "display_data"
    },
    {
     "data": {
      "text/html": [
       "<div><b>Plot:</b> One of them, later known as The Fallen, defies their sole rule to never destroy planets hosting life by establishing a Sun Harvester on Earth. </div>"
      ],
      "text/plain": [
       "<IPython.core.display.HTML object>"
      ]
     },
     "metadata": {},
     "output_type": "display_data"
    },
    {
     "data": {
      "text/html": [
       "<div><b>Predicted:</b> [5610, 5967, 442, 5874, 5611, 4968, 3829, 2313, 3201, 3732]</div>"
      ],
      "text/plain": [
       "<IPython.core.display.HTML object>"
      ]
     },
     "metadata": {},
     "output_type": "display_data"
    },
    {
     "data": {
      "text/html": [
       "<div><b>1:</b></div>"
      ],
      "text/plain": [
       "<IPython.core.display.HTML object>"
      ]
     },
     "metadata": {},
     "output_type": "display_data"
    },
    {
     "data": {
      "text/html": [
       "<div></div>"
      ],
      "text/plain": [
       "<IPython.core.display.HTML object>"
      ]
     },
     "metadata": {},
     "output_type": "display_data"
    },
    {
     "data": {
      "text/html": [
       "<div>... machine name <b>sun</b> harvesters <b>one</b> of <b>them</b> <b>later</b> <b>know</b> as the <b>fall</b> <b>defy</b> their <b>sole</b> <b>rule</b> to <b>never</b> <b>destroy</b> <b>planets</b> <b>host</b> <b>life</b> by <b>establish</b> a <b>sun</b> <b>harvester</b> on <b>earth</b> he be ... harvest the <b>planets</b> <b>sun</b> use the ... he warn <b>them</b> of the ... still on <b>earth</b> to hunt ... the last <b>know</b> allspark shard ... after bumblebee <b>destroy</b> the rampage ... mikaela who <b>later</b> capture the ... off from <b>one</b> of their ... travel to <b>one</b> of saturns ... master the <b>fall</b> who order ... defeat the <b>fall</b> sam mikaela ... the world <b>destroy</b> ship in ... paris the <b>fall</b> hijack <b>earth</b> telecommunications systems ... transformers visit <b>earth</b> eons ago ... most ancient <b>know</b> as seekers remain on <b>earth</b> hide in ... of the <b>fall</b> jetfire and ... and order <b>them</b> to locate ... devastator who <b>destroy</b> <b>one</b> of the ... reveal the <b>sun</b> <b>harvester</b> inside before ... to give <b>them</b> the matrix ... and kill <b>them</b> both major ... restore sams <b>life</b> and the ... optimus the <b>fall</b> teleport to ... activate the <b>sun</b> <b>harvester</b> jetfire who ... knock the <b>fall</b> and megatron ... the pyramid <b>destroy</b> the <b>sun</b> <b>harvester</b> in the ... kill the <b>fall</b> vow vengeance ...</div><br>"
      ],
      "text/plain": [
       "<IPython.core.display.HTML object>"
      ]
     },
     "metadata": {},
     "output_type": "display_data"
    },
    {
     "data": {
      "text/html": [
       "<div><b>2:</b></div>"
      ],
      "text/plain": [
       "<IPython.core.display.HTML object>"
      ]
     },
     "metadata": {},
     "output_type": "display_data"
    },
    {
     "data": {
      "text/html": [
       "<div></div>"
      ],
      "text/plain": [
       "<IPython.core.display.HTML object>"
      ]
     },
     "metadata": {},
     "output_type": "display_data"
    },
    {
     "data": {
      "text/html": [
       "<div>... up the <b>earth</b> space defense ... serve as <b>earth</b> early warn ... wormhole near <b>earth</b> moon and ... levinson be <b>destroy</b> on the ... security council <b>defy</b> order american ... proceed to <b>destroy</b> much of the <b>earth</b> planetary defenses ... toward the <b>earth</b> melt core ... group interrogate <b>one</b> of the ... and that <b>one</b> of their ... and unite <b>them</b> in an ... navigate two <b>harvester</b> fighters to ... refugee planet <b>know</b> the <b>harvester</b> queen have ... lure the <b>harvester</b> queen ship ... himself but <b>destroy</b> the enemy ... however the <b>harvester</b> queen survive ... after the <b>harvester</b> queen lower ... have offer <b>them</b> new technology ...</div><br>"
      ],
      "text/plain": [
       "<IPython.core.display.HTML object>"
      ]
     },
     "metadata": {},
     "output_type": "display_data"
    },
    {
     "data": {
      "text/html": [
       "<hr>"
      ],
      "text/plain": [
       "<IPython.core.display.HTML object>"
      ]
     },
     "metadata": {},
     "output_type": "display_data"
    },
    {
     "data": {
      "text/html": [
       "<div><b>Title:</b> Treasure Island</div>"
      ],
      "text/plain": [
       "<IPython.core.display.HTML object>"
      ]
     },
     "metadata": {},
     "output_type": "display_data"
    },
    {
     "data": {
      "text/html": [
       "<div><b>Plot:</b> jim and his mother are in a birthday celebration. he finds a mysterious map but a sailor with one leg looks for it too. The pirates want to kill Jim. Silver protects him. Jim frees Silver. As he sails away, Silver promises to hunt treasure with Jim again some day.</div>"
      ],
      "text/plain": [
       "<IPython.core.display.HTML object>"
      ]
     },
     "metadata": {},
     "output_type": "display_data"
    },
    {
     "data": {
      "text/html": [
       "<div><b>Predicted:</b> [626, 1812, 3297, 111, 74, 4213, 3296, 4507, 2760, 5312, 4652]</div>"
      ],
      "text/plain": [
       "<IPython.core.display.HTML object>"
      ]
     },
     "metadata": {},
     "output_type": "display_data"
    },
    {
     "data": {
      "text/html": [
       "<div><b>1:</b></div>"
      ],
      "text/plain": [
       "<IPython.core.display.HTML object>"
      ]
     },
     "metadata": {},
     "output_type": "display_data"
    },
    {
     "data": {
      "text/html": [
       "<div><b>treasure</b> <b>island</b></div>"
      ],
      "text/plain": [
       "<IPython.core.display.HTML object>"
      ]
     },
     "metadata": {},
     "output_type": "display_data"
    },
    {
     "data": {
      "text/html": [
       "<div>young <b>jim</b> hawkins jackie ... and his <b>mother</b> dorothy peterson ... bristol england <b>one</b> dark and ... during a <b>birthday</b> <b>celebration</b> the <b>mysterious</b> billy bone ... talk about <b>treasure</b> soon after ... of money <b>jim</b> <b>find</b> a <b>map</b> that his ... famous flint <b>treasure</b> squire trelawney ... to the <b>treasure</b> island and they set <b>sail</b> on captain ... long john <b>silver</b> wallace beery ... have warn <b>jim</b> about a <b>sailor</b> with <b>one</b> <b>leg</b> they become ... disapprove of <b>silver</b> and his ... the island <b>jim</b> overhear <b>silver</b> plot to take the <b>treasure</b> and <b>kill</b> smolletts men <b>jim</b> go ashore ... he have <b>find</b> flints <b>treasure</b> meanwhile smollett ... for safety <b>silver</b> men then ... them the <b>treasure</b> <b>map</b> while the situation <b>look</b> hopeless <b>jim</b> secretly go ... at night <b>sail</b> it to ... and shoot <b>one</b> of the <b>pirate</b> in selfdefense ... the stockade <b>silver</b> men be there and <b>silver</b> tell them ... sign the <b>pirate</b> <b>want</b> to <b>kill</b> <b>jim</b> but <b>silver</b> <b>protect</b> him dr ... come for <b>jim</b> but the ... word to <b>silver</b> not to run <b>away</b> the next <b>day</b> the <b>pirate</b> search for the <b>treasure</b> hold and when they <b>find</b> it it ... empty when <b>some</b> of the <b>pirate</b> mutiny against <b>silver</b> livesey otto ... smollett then <b>sail</b> home with the <b>treasure</b> which gunn ... and with <b>silver</b> as his ... be hang <b>jim</b> <b>free</b> <b>silver</b> as he <b>sail</b> <b>away</b> <b>silver</b> <b>promise</b> to <b>hunt</b> <b>treasure</b> with <b>jim</b> <b>again</b> <b>some</b> <b>day</b> as honest john <b>silver</b></div><br>"
      ],
      "text/plain": [
       "<IPython.core.display.HTML object>"
      ]
     },
     "metadata": {},
     "output_type": "display_data"
    },
    {
     "data": {
      "text/html": [
       "<div><b>2:</b></div>"
      ],
      "text/plain": [
       "<IPython.core.display.HTML object>"
      ]
     },
     "metadata": {},
     "output_type": "display_data"
    },
    {
     "data": {
      "text/html": [
       "<div><b>treasure</b> <b>island</b></div>"
      ],
      "text/plain": [
       "<IPython.core.display.HTML object>"
      ]
     },
     "metadata": {},
     "output_type": "display_data"
    },
    {
     "data": {
      "text/html": [
       "<div>... boy call <b>jim</b> hawkins live with his <b>mother</b> in a ... hawkins a <b>treasure</b> <b>map</b> after be ... by two <b>pirate</b> the second ... bone be <b>find</b> dead at ... inn and <b>jim</b> show squire trelawney the <b>map</b> trelawney recognize the <b>map</b> as belong ... discover the <b>pirate</b> lose <b>treasure</b> trelawney hire ... doctor and <b>jim</b> as the ... long john <b>silver</b> a onelegged ... a crew <b>silver</b> strike up ... friendship with <b>jim</b> and join ... at sea <b>jim</b> overhear <b>silver</b> and the ... hire by <b>silver</b> be captain ... old crew <b>jim</b> reveal the ... who ask <b>jim</b> to stay friends with <b>silver</b> to learn ... upon reach <b>treasure</b> island <b>silver</b> offer to ... be tow <b>one</b> of <b>silver</b> men merry ... plot by <b>jim</b> be able ... below deck <b>silver</b> cut the ... men take <b>jim</b> as a ... the island <b>jim</b> escape and ... gunn show <b>jim</b> the boat ... jolly roger <b>silver</b> return to ... of men <b>silver</b> attempt to ... be rebuff <b>silver</b> call his ... fail but <b>silver</b> wound smollett although seemingly <b>protect</b> by the ... morning tide <b>silver</b> could move ... the fort <b>jim</b> take gunns ... rope the <b>pirate</b> israel hand discover <b>jim</b> and chase ... but be <b>kill</b> by the boys pistol <b>jim</b> strike the ... unguarded inside <b>jim</b> search for ... long john <b>silver</b> <b>jim</b> faint on the spot <b>silver</b> <b>find</b> the <b>map</b> on him ... up merry <b>want</b> <b>jim</b> dead but <b>silver</b> state he <b>want</b> to trade ... for the <b>map</b> which his ... stockade lookout <b>silver</b> see that ... men give <b>silver</b> the black ... for the <b>map</b> <b>silver</b> return with <b>jim</b> flaunt the <b>map</b> the <b>pirate</b> be overjoy until they <b>find</b> out that the <b>treasure</b> – 700000 ... there the <b>pirate</b> turn on <b>silver</b> who manage to <b>kill</b> three of ... rest greet <b>silver</b> gunn reveal ... hes the <b>one</b> who dig up flints <b>treasure</b> and have ... smollett still <b>want</b> <b>silver</b> take back ... others take <b>silver</b> to the ... chest of <b>treasure</b> <b>silver</b> snatch jims ... boat he <b>want</b> hawkins to ... row but <b>jim</b> beach them instead <b>silver</b> order hawkins ... off but <b>jim</b> refuse and <b>silver</b> threaten to shoot him <b>silver</b> be unable ... himself see <b>silver</b> struggle <b>jim</b> help him ... farewell as <b>silver</b> row <b>away</b> with the <b>treasure</b></div><br>"
      ],
      "text/plain": [
       "<IPython.core.display.HTML object>"
      ]
     },
     "metadata": {},
     "output_type": "display_data"
    },
    {
     "data": {
      "text/html": [
       "<hr>"
      ],
      "text/plain": [
       "<IPython.core.display.HTML object>"
      ]
     },
     "metadata": {},
     "output_type": "display_data"
    },
    {
     "data": {
      "text/html": [
       "<div><b>Title:</b> </div>"
      ],
      "text/plain": [
       "<IPython.core.display.HTML object>"
      ]
     },
     "metadata": {},
     "output_type": "display_data"
    },
    {
     "data": {
      "text/html": [
       "<div><b>Plot:</b> Neo, humanity's only hope of stopping the war and saving Zion, attempts to broker peace between the machines and humans.</div>"
      ],
      "text/plain": [
       "<IPython.core.display.HTML object>"
      ]
     },
     "metadata": {},
     "output_type": "display_data"
    },
    {
     "data": {
      "text/html": [
       "<div><b>Predicted:</b> [5180, 3152]</div>"
      ],
      "text/plain": [
       "<IPython.core.display.HTML object>"
      ]
     },
     "metadata": {},
     "output_type": "display_data"
    },
    {
     "data": {
      "text/html": [
       "<div><b>1:</b></div>"
      ],
      "text/plain": [
       "<IPython.core.display.HTML object>"
      ]
     },
     "metadata": {},
     "output_type": "display_data"
    },
    {
     "data": {
      "text/html": [
       "<div></div>"
      ],
      "text/plain": [
       "<IPython.core.display.HTML object>"
      ]
     },
     "metadata": {},
     "output_type": "display_data"
    },
    {
     "data": {
      "text/html": [
       "<div><b>neo</b> and bane ... hammer meanwhile <b>neo</b> find his ... transition zone <b>between</b> the matrix and the <b>machine</b> city in ... father tell <b>neo</b> the subway ... merovingian when <b>neo</b> try to ... to release <b>neo</b> trouble by ... of the <b>machine</b> city <b>neo</b> visit the ... that the <b>war</b> will conclude after <b>neo</b> leave a ... defense of <b>zion</b> <b>neo</b> request a ... to the <b>machine</b> city motivate ... the logos <b>neo</b> depart accompany ... trinity hostage <b>neo</b> realize that ... him however <b>neo</b> discover an ... golden light <b>neo</b> kill bane ... to the <b>machine</b> city niobe ... out for <b>zion</b> with the ... sentinels in <b>zion</b> the fatally ... defenses the <b>humans</b> be force ... near the <b>machine</b> city <b>neo</b> and trinity ... missiles which <b>neo</b> <b>attempt</b> to destroy ... into the <b>machine</b> city the ... kill trinity <b>neo</b> enter the <b>machine</b> city and ... machina the <b>machine</b> leader <b>neo</b> warn that ... offer to <b>stop</b> smith in exchange for <b>peace</b> with <b>zion</b> the <b>machine</b> leader agree ... the sentinels <b>stop</b> attack <b>zion</b> the <b>machine</b> provide a connection for <b>neo</b> to enter ... victory against <b>neo</b> after a ... assimilate the <b>machine</b> leader send ... world because <b>neo</b> be connect ... withdraw from <b>zion</b> morpheus and ... by the <b>machine</b> the matrix ... that the <b>peace</b> will last ... that all <b>humans</b> will be ... will see <b>neo</b> again seraph ...</div><br>"
      ],
      "text/plain": [
       "<IPython.core.display.HTML object>"
      ]
     },
     "metadata": {},
     "output_type": "display_data"
    },
    {
     "data": {
      "text/html": [
       "<div><b>2:</b></div>"
      ],
      "text/plain": [
       "<IPython.core.display.HTML object>"
      ]
     },
     "metadata": {},
     "output_type": "display_data"
    },
    {
     "data": {
      "text/html": [
       "<div></div>"
      ],
      "text/plain": [
       "<IPython.core.display.HTML object>"
      ]
     },
     "metadata": {},
     "output_type": "display_data"
    },
    {
     "data": {
      "text/html": [
       "<div>... the soviet <b>machine</b> capability the ... communicate use <b>only</b> simple arithmetic ... the two <b>machine</b> then become ... link both <b>machine</b> demand the ... last desperate <b>attempt</b> to regain ... secret meet <b>between</b> forbin and ... unmonitored privacy <b>only</b> when they ... that colossuss <b>only</b> real power ... communications to <b>humans</b> around the ... colossus the <b>attempt</b> system overload ... will prevent <b>war</b> as it ... the choice <b>between</b> the <b>peace</b> of plenty ... or the <b>peace</b> of unburied ... monitor the <b>attempt</b> to disarm ... free from <b>war</b> will create ... heights but <b>only</b> under its ... me not <b>only</b> with respect ...</div><br>"
      ],
      "text/plain": [
       "<IPython.core.display.HTML object>"
      ]
     },
     "metadata": {},
     "output_type": "display_data"
    },
    {
     "data": {
      "text/html": [
       "<hr>"
      ],
      "text/plain": [
       "<IPython.core.display.HTML object>"
      ]
     },
     "metadata": {},
     "output_type": "display_data"
    },
    {
     "data": {
      "text/html": [
       "<div><b>Title:</b> Star Trek</div>"
      ],
      "text/plain": [
       "<IPython.core.display.HTML object>"
      ]
     },
     "metadata": {},
     "output_type": "display_data"
    },
    {
     "data": {
      "text/html": [
       "<div><b>Plot:</b> Captain Jean Luc Picard awaken from a nightmare.\n",
       "The Enterprise arrives in time to assist the crew of the USS Defiant and its captain.\n",
       "The Enterprise arrives hundreds of years in its past on April 4, 2063, the day before humanity's first encounter with alien life.</div>"
      ],
      "text/plain": [
       "<IPython.core.display.HTML object>"
      ]
     },
     "metadata": {},
     "output_type": "display_data"
    },
    {
     "data": {
      "text/html": [
       "<div><b>Predicted:</b> [4643, 4471, 5122, 4836, 3661, 3517, 4105, 3760]</div>"
      ],
      "text/plain": [
       "<IPython.core.display.HTML object>"
      ]
     },
     "metadata": {},
     "output_type": "display_data"
    },
    {
     "data": {
      "text/html": [
       "<div><b>1:</b></div>"
      ],
      "text/plain": [
       "<IPython.core.display.HTML object>"
      ]
     },
     "metadata": {},
     "output_type": "display_data"
    },
    {
     "data": {
      "text/html": [
       "<div><b>star</b> <b>trek</b> first contact</div>"
      ],
      "text/plain": [
       "<IPython.core.display.HTML object>"
      ]
     },
     "metadata": {},
     "output_type": "display_data"
    },
    {
     "data": {
      "text/html": [
       "<div>... 24th century <b>captain</b> <b>jean</b> <b>luc</b> <b>picard</b> <b>awaken</b> from a <b>nightmare</b> in which ... borg six <b>years</b> earlier he ... ship the <b>uss</b> enterprisee to ... worry that <b>picard</b> be too ... battle the <b>enterprise</b> <b>crew</b> disobey order ... ship hold <b>its</b> own against ... vessels the <b>enterprise</b> <b>arrive</b> in <b>time</b> to <b>assist</b> the <b>crew</b> of the <b>uss</b> <b>defiant</b> and <b>its</b> <b>captain</b> the klingon worf <b>picard</b> take control ... planet the <b>enterprise</b> pursue the ... disappear the <b>enterprise</b> discover earth ... have use <b>time</b> travel to change the <b>past</b> the <b>enterprise</b> follow the ... vortex3 the <b>enterprise</b> <b>arrive</b> <b>hundreds</b> of <b>years</b> in <b>its</b> <b>past</b> on <b>april</b> <b>4</b> <b>2063</b> the <b>day</b> <b>before</b> <b>humanitys</b> <b>first</b> <b>encounter</b> with <b>alien</b> <b>life</b> after zefram ... flight the <b>crew</b> realize the ... to prevent <b>first</b> contact after ... in montana <b>picard</b> have cochranes ... to the <b>enterprise</b> for medical attention the <b>captain</b> return to ... role the <b>enterprise</b> <b>crew</b> describe3 a ... to assimilate <b>its</b> <b>crew</b> and modify the ship <b>picard</b> and a ... sloane corner <b>picard</b> with a ... the holodeck4 <b>picard</b> worf and ... ship but <b>picard</b> angrily call ... confront the <b>captain</b> and make ... act irrationally <b>picard</b> order an ... while the <b>crew</b> head for ... pod the <b>captain</b> decide to ... the phoenix <b>picard</b> discover that ... to the <b>enterprise</b> computer although <b>picard</b> offer himself ... the next <b>day</b> the <b>crew</b> watch from ... as an <b>alien</b> vulcan ship ... greet the <b>alien</b> have ensure ... timeline the <b>enterprise</b> <b>crew</b> slip away ...</div><br>"
      ],
      "text/plain": [
       "<IPython.core.display.HTML object>"
      ]
     },
     "metadata": {},
     "output_type": "display_data"
    },
    {
     "data": {
      "text/html": [
       "<div><b>2:</b></div>"
      ],
      "text/plain": [
       "<IPython.core.display.HTML object>"
      ]
     },
     "metadata": {},
     "output_type": "display_data"
    },
    {
     "data": {
      "text/html": [
       "<div><b>star</b> <b>trek</b> generations</div>"
      ],
      "text/plain": [
       "<IPython.core.display.HTML object>"
      ]
     },
     "metadata": {},
     "output_type": "display_data"
    },
    {
     "data": {
      "text/html": [
       "<div>... 2293 retire <b>captain</b> jam t ... federation starship <b>uss</b> enterpriseb under ... the voyage <b>enterprise</b> have leave ... energy ribbon <b>enterprise</b> be able ... the refugees <b>before</b> their ship ... dish allow <b>enterprise</b> to escape ... 2371 the <b>crew</b> of the <b>uss</b> enterprised celebrate ... lieutenant commander <b>captain</b> jeanluc <b>picard</b> receive a ... fire since <b>picard</b> never father ... with him <b>enterprise</b> receive a ... rescue just <b>before</b> the station ... bartender tell <b>picard</b> more about ... realm where <b>time</b> have no ... they desire <b>picard</b> and data ... by destroy <b>its</b> sun—and by ... veridian system <b>enterprise</b> make contact ... of prey <b>picard</b> offer himself ... sorans location <b>first</b> la forge ... return to <b>enterprise</b> but with ... damage on <b>enterprise</b> <b>enterprise</b> destroy the ... damage to <b>its</b> warp core ... veridian iii <b>picard</b> fail to ... it sweep <b>picard</b> and soran ... the nexus <b>picard</b> find himself ... be at <b>first</b> reluctant to ... be real <b>picard</b> convince kirk ... nexus with <b>picard</b> choose to have them <b>arrive</b> on veridian ... only minutes <b>before</b> soran launch ... enough for <b>picard</b> to lock ... during the <b>encounter</b> as he die <b>picard</b> assure him ... a difference <b>picard</b> bury kirk ... a hillside <b>before</b> a shuttle <b>arrive</b> to transport ... of the <b>enterprise</b> saucer three ... in the <b>captain</b> chair of the ship <b>picard</b> muse that ... the name <b>enterprise</b></div><br>"
      ],
      "text/plain": [
       "<IPython.core.display.HTML object>"
      ]
     },
     "metadata": {},
     "output_type": "display_data"
    },
    {
     "data": {
      "text/html": [
       "<hr>"
      ],
      "text/plain": [
       "<IPython.core.display.HTML object>"
      ]
     },
     "metadata": {},
     "output_type": "display_data"
    },
    {
     "data": {
      "text/html": [
       "<div><b>Title:</b> </div>"
      ],
      "text/plain": [
       "<IPython.core.display.HTML object>"
      ]
     },
     "metadata": {},
     "output_type": "display_data"
    },
    {
     "data": {
      "text/html": [
       "<div><b>Plot:</b> In a murder trial, 12 men act as the jury to decide whether or not the boy is guilty for murdering his father. The lawyers won't help the boy as he has a weapon.</div>"
      ],
      "text/plain": [
       "<IPython.core.display.HTML object>"
      ]
     },
     "metadata": {},
     "output_type": "display_data"
    },
    {
     "data": {
      "text/html": [
       "<div><b>Predicted:</b> [4670, 4971, 5749, 5309, 5514, 4920, 1136, 4754, 1824, 722, 4160, 4631, 5958]</div>"
      ],
      "text/plain": [
       "<IPython.core.display.HTML object>"
      ]
     },
     "metadata": {},
     "output_type": "display_data"
    },
    {
     "data": {
      "text/html": [
       "<div><b>1:</b></div>"
      ],
      "text/plain": [
       "<IPython.core.display.HTML object>"
      ]
     },
     "metadata": {},
     "output_type": "display_data"
    },
    {
     "data": {
      "text/html": [
       "<div></div>"
      ],
      "text/plain": [
       "<IPython.core.display.HTML object>"
      ]
     },
     "metadata": {},
     "output_type": "display_data"
    },
    {
     "data": {
      "text/html": [
       "<div>... in a <b>murder</b> <b>trial</b> have be ... to the <b>jury</b> all of whom be <b>men</b> in the ... a hang <b>jury</b> which in ... they be <b>decide</b> be <b>whether</b> the defendant a teenaged <b>boy</b> from a city slum <b>murder</b> his <b>father</b> the <b>jury</b> be further ... that a <b>guilty</b> verdict will ... sentence the <b>jury</b> of twelve ... to the <b>jury</b> room where ... and the <b>boy</b> deserve a ... to the <b>murder</b> the fact ... in the <b>murder</b> be <b>not</b> as unusual ... jurors vote <b>guilty</b> unanimously then ... juror vote <b>not</b> <b>guilty</b> then they ... 8 and <b>not</b> necessarily believe ... accuse be <b>not</b> <b>guilty</b> but feel ... deliberations concern <b>whether</b> one witness ... hear the <b>murder</b> take place ... vote to <b>not</b> <b>guilty</b> soon afterward ... 11 question <b>whether</b> the defendant ... 6 also <b>decide</b> to vote <b>not</b> <b>guilty</b> to tie ... defendant be <b>not</b> <b>guilty</b> the next ... be jurors <b>12</b> and 1 ... saw the <b>boy</b> flee the ... that the <b>boy</b> have subconscious ... such do <b>not</b> prove anything ... saw the <b>murder</b> from across ... out juror <b>12</b> change his ... back to <b>guilty</b> to make ... saw the <b>murder</b> have impressions ... likely be <b>not</b> wear them ... saw the <b>murder</b> after he ... out jurors <b>12</b> 10 and ... vote to <b>not</b> <b>guilty</b> last of ... his own <b>father</b> it be ... that the <b>boy</b> be <b>not</b> his son ... juror 8 <b>help</b> the distraught ...</div><br>"
      ],
      "text/plain": [
       "<IPython.core.display.HTML object>"
      ]
     },
     "metadata": {},
     "output_type": "display_data"
    },
    {
     "data": {
      "text/html": [
       "<div><b>2:</b></div>"
      ],
      "text/plain": [
       "<IPython.core.display.HTML object>"
      ]
     },
     "metadata": {},
     "output_type": "display_data"
    },
    {
     "data": {
      "text/html": [
       "<div></div>"
      ],
      "text/plain": [
       "<IPython.core.display.HTML object>"
      ]
     },
     "metadata": {},
     "output_type": "display_data"
    },
    {
     "data": {
      "text/html": [
       "<div>... marines his <b>act</b> thereby save ... of hodges <b>men</b> die in ... order his <b>men</b> to open ... be absolutely <b>guilty</b> sokal at ... during the <b>trial</b> hodges present ... at the <b>trial</b> argue that ... tape would <b>not</b> have be ... he would <b>not</b> sacrifice the ... of his <b>men</b> to appease ... they do <b>not</b> have any ... by the <b>jury</b> as be ... towards yemenis <b>or</b> have a ... after the <b>trial</b> hodges visit ... be find <b>guilty</b> of the ... marines but <b>not</b> <b>guilty</b> of the ... officer and <b>murder</b> a final ...</div><br>"
      ],
      "text/plain": [
       "<IPython.core.display.HTML object>"
      ]
     },
     "metadata": {},
     "output_type": "display_data"
    },
    {
     "data": {
      "text/html": [
       "<hr>"
      ],
      "text/plain": [
       "<IPython.core.display.HTML object>"
      ]
     },
     "metadata": {},
     "output_type": "display_data"
    },
    {
     "data": {
      "text/plain": [
       "[[4670,\n",
       "  '',\n",
       "  '... in a <b>murder</b> <b>trial</b> have be ... to the <b>jury</b> all of whom be <b>men</b> in the ... a hang <b>jury</b> which in ... they be <b>decide</b> be <b>whether</b> the defendant a teenaged <b>boy</b> from a city slum <b>murder</b> his <b>father</b> the <b>jury</b> be further ... that a <b>guilty</b> verdict will ... sentence the <b>jury</b> of twelve ... to the <b>jury</b> room where ... and the <b>boy</b> deserve a ... to the <b>murder</b> the fact ... in the <b>murder</b> be <b>not</b> as unusual ... jurors vote <b>guilty</b> unanimously then ... juror vote <b>not</b> <b>guilty</b> then they ... 8 and <b>not</b> necessarily believe ... accuse be <b>not</b> <b>guilty</b> but feel ... deliberations concern <b>whether</b> one witness ... hear the <b>murder</b> take place ... vote to <b>not</b> <b>guilty</b> soon afterward ... 11 question <b>whether</b> the defendant ... 6 also <b>decide</b> to vote <b>not</b> <b>guilty</b> to tie ... defendant be <b>not</b> <b>guilty</b> the next ... be jurors <b>12</b> and 1 ... saw the <b>boy</b> flee the ... that the <b>boy</b> have subconscious ... such do <b>not</b> prove anything ... saw the <b>murder</b> from across ... out juror <b>12</b> change his ... back to <b>guilty</b> to make ... saw the <b>murder</b> have impressions ... likely be <b>not</b> wear them ... saw the <b>murder</b> after he ... out jurors <b>12</b> 10 and ... vote to <b>not</b> <b>guilty</b> last of ... his own <b>father</b> it be ... that the <b>boy</b> be <b>not</b> his son ... juror 8 <b>help</b> the distraught ...'],\n",
       " [4971,\n",
       "  '',\n",
       "  '... marines his <b>act</b> thereby save ... of hodges <b>men</b> die in ... order his <b>men</b> to open ... be absolutely <b>guilty</b> sokal at ... during the <b>trial</b> hodges present ... at the <b>trial</b> argue that ... tape would <b>not</b> have be ... he would <b>not</b> sacrifice the ... of his <b>men</b> to appease ... they do <b>not</b> have any ... by the <b>jury</b> as be ... towards yemenis <b>or</b> have a ... after the <b>trial</b> hodges visit ... be find <b>guilty</b> of the ... marines but <b>not</b> <b>guilty</b> of the ... officer and <b>murder</b> a final ...'],\n",
       " [5749,\n",
       "  '',\n",
       "  '... of three <b>act</b> which be ... when another <b>boy</b> teddy enter ... carly craig <b>decide</b> to pick ... as maintenance <b>men</b> monsignor ratliffe ... they will <b>not</b> be able ... and teddys <b>father</b> earlier adoption ... wealth to <b>help</b> save the ... them after <b>decide</b> to split ... but have <b>not</b> be take ... teddys adopt <b>father</b> at his ... orphanage teddys <b>father</b> confess that ... want to <b>murder</b> in addition ... they feel <b>guilty</b> for rebuke moe in <b>not</b> accept the ... adoption and <b>decide</b> to go ... around and <b>not</b> put up ... the show <b>or</b> sue him ... thwart the <b>murder</b> plot get ... as balloon <b>men</b> when they ... teddy and <b>not</b> him when ... refuse to <b>help</b> the same ... to a <b>father</b> that try ... be teddys <b>father</b> secretary in ... advise children <b>not</b> to try ...'],\n",
       " [5309,\n",
       "  '',\n",
       "  '... attempt exorcism <b>father</b> richard moore ... to plead <b>guilty</b> to minimize ... to plead <b>not</b> <b>guilty</b> erin bruner ... use the <b>trial</b> to become ... during the <b>trial</b> emily ’ ... witness the <b>trial</b> ’ s ... ’ s <b>father</b> jason and ... and cartwright <b>help</b> moore emily ... when the <b>men</b> render aid to emilys <b>father</b> injure by ... to heaven <b>or</b> remain to ... farm the <b>jury</b> ultimately reach ... verdict of <b>guilty</b> but surprise ... it and <b>father</b> moore be ...'],\n",
       " [5514,\n",
       "  '',\n",
       "  '... at the <b>trial</b> of suspect ... and the <b>murder</b> of her ... receive a <b>guilty</b> verdict from the <b>jury</b> forster taunt ... similar torture <b>murder</b> occur gramm ... offer to <b>help</b> find the ... cry for <b>help</b> before be <b>murder</b> gramm conclude ... find her <b>murder</b> in her ... at forsters <b>trial</b> special agent ... you get <b>12</b> hours to ...'],\n",
       " [4920,\n",
       "  '',\n",
       "  '... fate of <b>murder</b> victim kitty ... down wicked <b>men</b> so that ... of evil <b>men</b> conner learn ... and errand <b>boy</b> for local ... himself to <b>help</b> conner and ... the three <b>men</b> be ambush ... the three <b>men</b> suffer serious ... rocco and <b>decide</b> to do ... choice of <b>whether</b> to prosecute the three <b>men</b> <b>or</b> join them ... priest smecker <b>decide</b> to <b>help</b> the trio ... the brothers <b>father</b> and <b>decide</b> to join ... send to <b>trial</b> for a ... infiltrate the <b>trial</b> after slide ...'],\n",
       " [1136,\n",
       "  '',\n",
       "  '... into a <b>murder</b> investigation together ... 1927 a <b>murder</b> case involve ... casely be <b>murder</b> and his ... for the <b>murder</b> since a ... convict of <b>murder</b> in chicago ... husband be <b>guilty</b> of the <b>murder</b> her mugshot ... room billy <b>decide</b> they will ... finnegan and <b>decide</b> to <b>help</b> roxie out ... move her <b>trial</b> further into ... of the <b>jury</b> <b>help</b> her case ... be find <b>not</b> <b>guilty</b> of the <b>murder</b> but amos ... of the <b>jury</b> stockbroker omalley ...'],\n",
       " [4754,\n",
       "  '',\n",
       "  '... client be <b>guilty</b> and local ... him a <b>guilty</b> verdict be ... secure a <b>not</b> <b>guilty</b> verdict subsequently ... assist a <b>jury</b> selection after the <b>jury</b> deliver a <b>not</b> <b>guilty</b> verdict the ... accuse of <b>murder</b> his wife ... from the <b>trial</b> to tend ... cullen be <b>guilty</b> despite this ... and the <b>trial</b> afterwards kevin ... this can <b>not</b> be true ... be kevins <b>father</b> kevin leave ... the gettys <b>trial</b> choose to ... he can <b>not</b> represent his ...'],\n",
       " [1824,\n",
       "  '',\n",
       "  '... rustler and <b>murder</b> suspect tim ... to stand <b>trial</b> the other ... offer to <b>help</b> but be ... leave ann <b>decide</b> to go ... ranchers merrick <b>decide</b> to take ... and his <b>men</b> in the ... cost his <b>father</b> his life ... his marshal <b>father</b> and refuse to <b>help</b> escort two ... to her <b>father</b> meanwhile dan ... gray to <b>help</b> him escape ... tell the <b>jury</b> that he ... keith be <b>not</b> a killer ... and a <b>guilty</b> verdict be ... when his <b>father</b> approach dan ...'],\n",
       " [722,\n",
       "  '',\n",
       "  '... where he <b>wont</b> be recognize ... at her <b>trial</b> vera confess to the <b>murder</b> but refuse ... as the <b>lawyers</b> be make ... vera abruptly <b>decide</b> to give ... suitcase be <b>not</b> open and ... be find <b>guilty</b> lose custody ... wife be <b>not</b> her real ... be find <b>guilty</b> her sentence ...'],\n",
       " [4160,\n",
       "  '',\n",
       "  '... the ultimate <b>weapon</b> an energy ... create a <b>weapon</b> so powerful ... frankenstein the <b>men</b> discuss science ... kill a <b>trial</b> be to ... the guilt <b>or</b> innocence of ... in the <b>murder</b> several villagers ... observe the <b>trial</b> and become ... judge do <b>not</b> the nanny be find <b>guilty</b> and sentence ... shelley for <b>help</b> tell her ... destiny choose <b>not</b> to become ... mate be <b>not</b> make for ... buchanans ultimate <b>weapon</b> buchanan engage ... he can <b>not</b> truly be ...'],\n",
       " [4631,\n",
       "  '',\n",
       "  '... investigate a <b>murder</b> the woman ... when she <b>wont</b> get rid ... a baby <b>boy</b> connie be ... his suppose <b>father</b> her new ... she be <b>help</b> by grace ... beg grace <b>not</b> to include ... connie be <b>not</b> after the ... call to <b>help</b> a drink ... be feel <b>guilty</b> for take ... life connie <b>decide</b> to leave ... overnight connie <b>decide</b> to run ... again connie <b>decide</b> to accept ... next day <b>or</b> else he ... she do <b>not</b> at first ... the scene <b>not</b> know that ... to steves <b>murder</b> to the ... to the <b>murder</b> themselves try ...'],\n",
       " [5958,\n",
       "  '',\n",
       "  '... be discover <b>murder</b> be arrest ... who be <b>not</b> aware of ... finkels promise <b>not</b> to share ... of the <b>murder</b> <b>trial</b> finkel become ... as the <b>trial</b> approach finkel ... longo be <b>guilty</b> of the <b>murder</b> and longo ... plea to <b>not</b> <b>guilty</b> in court longo plead <b>not</b> <b>guilty</b> to two of the <b>murder</b> but plead <b>guilty</b> to the <b>murder</b> of his ... he can <b>not</b> share everything ... ganley do <b>not</b> press him ... at the <b>trial</b> longo take ... as the <b>jury</b> deliberate jill ... be find <b>guilty</b> of all ... of the <b>murder</b> finkel angrily ... he will <b>not</b> believe any ...'],\n",
       " [4670, 4971, 5749, 5309, 5514, 4920, 1136, 4754, 1824, 722, 4160, 4631, 5958]]"
      ]
     },
     "execution_count": 20,
     "metadata": {},
     "output_type": "execute_result"
    }
   ],
   "source": [
    "from io import StringIO\n",
    "from IPython.core.display import display, HTML\n",
    "\n",
    "res = []\n",
    "for test in test_case:\n",
    "    display(HTML(f\"<div><b>Title:</b> {test['title_query']}</div>\"))\n",
    "    display(HTML(f\"<div><b>Plot:</b> {test['plot_query']}</div>\"))\n",
    "    res = search(test['title_query'], test['plot_query'], test['title_weight'], test['max_size'])\n",
    "    predicted = [x[0] for x in res]\n",
    "    display(HTML(f\"<div><b>Predicted:</b> {predicted}</div>\"))\n",
    "    for i, x in enumerate(res[:2]):\n",
    "        display(HTML(f\"<div><b>{i+1}:</b></div>\"))\n",
    "        display(HTML(f\"<div>{x[1]}</div>\"))\n",
    "        display(HTML(f\"<div>{x[2]}</div><br>\"))\n",
    "    display(HTML(f\"<hr>\"))\n",
    "    res.append(predicted)\n",
    "res"
   ]
  }
 ],
 "metadata": {
  "colab": {
   "collapsed_sections": [],
   "name": "MIR_Phase1_v1.ipynb",
   "provenance": []
  },
  "kernelspec": {
   "display_name": "Python 3",
   "language": "python",
   "name": "python3"
  },
  "language_info": {
   "codemirror_mode": {
    "name": "ipython",
    "version": 3
   },
   "file_extension": ".py",
   "mimetype": "text/x-python",
   "name": "python",
   "nbconvert_exporter": "python",
   "pygments_lexer": "ipython3",
   "version": "3.7.7"
  }
 },
 "nbformat": 4,
 "nbformat_minor": 4
}
